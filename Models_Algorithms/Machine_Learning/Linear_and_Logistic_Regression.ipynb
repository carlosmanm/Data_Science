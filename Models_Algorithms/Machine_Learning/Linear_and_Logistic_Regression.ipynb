{
  "nbformat": 4,
  "nbformat_minor": 0,
  "metadata": {
    "colab": {
      "name": "Regresion Lineal y Logistica.ipynb",
      "provenance": [],
      "collapsed_sections": [],
      "authorship_tag": "ABX9TyNRQIlZdRgf8AEn0/ajSNaG",
      "include_colab_link": true
    },
    "kernelspec": {
      "name": "python3",
      "display_name": "Python 3"
    }
  },
  "cells": [
    {
      "cell_type": "markdown",
      "metadata": {
        "id": "view-in-github",
        "colab_type": "text"
      },
      "source": [
        "<a href=\"https://colab.research.google.com/github/carlosmanm/Data_Science/blob/main/Models_Algorithms/Machine_Learning/Linear_and_Logistic_Regression.ipynb\" target=\"_parent\"><img src=\"https://colab.research.google.com/assets/colab-badge.svg\" alt=\"Open In Colab\"/></a>"
      ]
    },
    {
      "cell_type": "code",
      "metadata": {
        "id": "SUWEHzuavUgT"
      },
      "source": [
        "import torch\n",
        "import numpy as np\n",
        "import torch.nn as nn # redes neuronales\n",
        "import torch.optim as optim \n",
        "\n",
        "import matplotlib.pyplot as plt\n",
        "import pandas as pd"
      ],
      "execution_count": null,
      "outputs": []
    },
    {
      "cell_type": "markdown",
      "metadata": {
        "id": "S8aF0YCl0LMh"
      },
      "source": [
        "# **Regresion Lineal**"
      ]
    },
    {
      "cell_type": "markdown",
      "metadata": {
        "id": "pb_3m4s1xuB4"
      },
      "source": [
        "En ML para regresion:\n",
        "\n",
        "y -> Label -> Lo que estamos prediciendo y es variable de salida. \n",
        "\n",
        "x -> Feature -> Una variable de entrada\n",
        "\n",
        "bedrooms, sq- feet, neighborhood -> feature\n",
        "\n",
        "sales price -> label\n",
        "\n",
        "Modelo = define relaciones entre labes y features.\n",
        "\n",
        "Training = aprendizaje -- varias iteraciones para reducir el loss.\n",
        "\n",
        "Inference = usar el modelo para realizar predicciones.\n",
        "\n",
        " "
      ]
    },
    {
      "cell_type": "markdown",
      "metadata": {
        "id": "wYLzIwFivw8O"
      },
      "source": [
        "En esta regresion podremos compararemos las unidades vendidas de automoviles explicadas por los precios"
      ]
    },
    {
      "cell_type": "code",
      "metadata": {
        "colab": {
          "base_uri": "https://localhost:8080/",
          "height": 282
        },
        "id": "EH5vQpWdvstg",
        "outputId": "36530892-5588-4c4b-f068-a72e2625f84a"
      },
      "source": [
        "cars_prices = [5, 6, 7, 8, 9, 10]\n",
        "units_sold = [8.5, 8, 7.5, 7, 6.5, 6]\n",
        "\n",
        "plt.scatter(cars_prices, units_sold)"
      ],
      "execution_count": null,
      "outputs": [
        {
          "output_type": "execute_result",
          "data": {
            "text/plain": [
              "<matplotlib.collections.PathCollection at 0x7f4aea06c588>"
            ]
          },
          "metadata": {
            "tags": []
          },
          "execution_count": 2
        },
        {
          "output_type": "display_data",
          "data": {
            "image/png": "[encoded data removed]",
            "text/plain": [
              "<Figure size 432x288 with 1 Axes>"
            ]
          },
          "metadata": {
            "tags": [],
            "needs_background": "light"
          }
        }
      ]
    },
    {
      "cell_type": "markdown",
      "metadata": {
        "id": "E0zjd9YEwjpJ"
      },
      "source": [
        "Ahora de numpy pasamos a Torch"
      ]
    },
    {
      "cell_type": "code",
      "metadata": {
        "colab": {
          "base_uri": "https://localhost:8080/"
        },
        "id": "7_uyVsHrwV34",
        "outputId": "391ea591-7064-494c-c6d1-ba9aa1ccac31"
      },
      "source": [
        "prices_array = np.array(cars_prices).reshape(-1, 1)\n",
        "prices_array"
      ],
      "execution_count": null,
      "outputs": [
        {
          "output_type": "execute_result",
          "data": {
            "text/plain": [
              "array([[ 5],\n",
              "       [ 6],\n",
              "       [ 7],\n",
              "       [ 8],\n",
              "       [ 9],\n",
              "       [10]])"
            ]
          },
          "metadata": {
            "tags": []
          },
          "execution_count": 4
        }
      ]
    },
    {
      "cell_type": "code",
      "metadata": {
        "colab": {
          "base_uri": "https://localhost:8080/"
        },
        "id": "tWLKa73EwxzI",
        "outputId": "d0616e07-1e9f-4554-fe20-78c36085c60f"
      },
      "source": [
        "units_array = np.array(units_sold).reshape(-1, 1)\n",
        "units_array"
      ],
      "execution_count": null,
      "outputs": [
        {
          "output_type": "execute_result",
          "data": {
            "text/plain": [
              "array([[8.5],\n",
              "       [8. ],\n",
              "       [7.5],\n",
              "       [7. ],\n",
              "       [6.5],\n",
              "       [6. ]])"
            ]
          },
          "metadata": {
            "tags": []
          },
          "execution_count": 5
        }
      ]
    },
    {
      "cell_type": "code",
      "metadata": {
        "colab": {
          "base_uri": "https://localhost:8080/"
        },
        "id": "YJ1xppfSw6TI",
        "outputId": "14eb51ff-fd0e-4604-d6ec-83469a56b3f6"
      },
      "source": [
        "prices = torch.from_numpy(prices_array).float().requires_grad_(True)\n",
        "units = torch.from_numpy(units_array).float() # No necesita gradientes porque es mi target\n",
        "\n",
        "prices, prices.shape"
      ],
      "execution_count": null,
      "outputs": [
        {
          "output_type": "execute_result",
          "data": {
            "text/plain": [
              "(tensor([[ 5.],\n",
              "         [ 6.],\n",
              "         [ 7.],\n",
              "         [ 8.],\n",
              "         [ 9.],\n",
              "         [10.]], requires_grad=True), torch.Size([6, 1]))"
            ]
          },
          "metadata": {
            "tags": []
          },
          "execution_count": 7
        }
      ]
    },
    {
      "cell_type": "markdown",
      "metadata": {
        "id": "hR-pS_uQxpod"
      },
      "source": [
        "Creamos el modelo"
      ]
    },
    {
      "cell_type": "code",
      "metadata": {
        "colab": {
          "base_uri": "https://localhost:8080/",
          "height": 299
        },
        "id": "1jlosisQxfkI",
        "outputId": "b6fb63b5-72de-49a4-cf90-9c88029fcb9a"
      },
      "source": [
        "model = nn.Linear(1,1)\n",
        "\n",
        "loss_function  = nn.MSELoss() # Mean squared error\n",
        "\n",
        "optimizer = optim.SGD(model.parameters(), lr=0.015)  # scholastic gradient descent   / lr = learning rate\n",
        "\n",
        "losses = []\n",
        "\n",
        "iterations = 2000\n",
        "\n",
        "for i in range(iterations):\n",
        "  pred = model(prices)\n",
        "  loss = loss_function(pred, units)\n",
        "  losses.append(loss.data)\n",
        "\n",
        "  optimizer.zero_grad()\n",
        "  loss.backward()\n",
        "  optimizer.step()\n",
        "\n",
        "print(loss)\n",
        "plt.plot(range(iterations), losses)"
      ],
      "execution_count": null,
      "outputs": [
        {
          "output_type": "stream",
          "text": [
            "tensor(0.0178, grad_fn=<MseLossBackward>)\n"
          ],
          "name": "stdout"
        },
        {
          "output_type": "execute_result",
          "data": {
            "text/plain": [
              "[<matplotlib.lines.Line2D at 0x7f4ae8e459b0>]"
            ]
          },
          "metadata": {
            "tags": []
          },
          "execution_count": 11
        },
        {
          "output_type": "display_data",
          "data": {
            "image/png": "[encoded data removed]",
            "text/plain": [
              "<Figure size 432x288 with 1 Axes>"
            ]
          },
          "metadata": {
            "tags": [],
            "needs_background": "light"
          }
        }
      ]
    },
    {
      "cell_type": "code",
      "metadata": {
        "colab": {
          "base_uri": "https://localhost:8080/"
        },
        "id": "ow-Obw7_zOuC",
        "outputId": "c704a99e-a925-4159-e078-01b3049b7a1d"
      },
      "source": [
        "x = torch.Tensor([[4.0]])\n",
        "p = model(x)\n",
        "p"
      ],
      "execution_count": null,
      "outputs": [
        {
          "output_type": "execute_result",
          "data": {
            "text/plain": [
              "tensor([[8.7046]], grad_fn=<AddmmBackward>)"
            ]
          },
          "metadata": {
            "tags": []
          },
          "execution_count": 12
        }
      ]
    },
    {
      "cell_type": "markdown",
      "metadata": {
        "id": "Bf47CTUCzoX8"
      },
      "source": [
        "Con 4 numero de unidades vendidas el precio deberia ser 8.7"
      ]
    },
    {
      "cell_type": "code",
      "metadata": {
        "colab": {
          "base_uri": "https://localhost:8080/"
        },
        "id": "sFDqfagszlcw",
        "outputId": "98469e05-c266-4f4e-f51f-473e0d0e4482"
      },
      "source": [
        "x = torch.Tensor([[14.0]])\n",
        "p = model(x)\n",
        "p"
      ],
      "execution_count": null,
      "outputs": [
        {
          "output_type": "execute_result",
          "data": {
            "text/plain": [
              "tensor([[4.4655]], grad_fn=<AddmmBackward>)"
            ]
          },
          "metadata": {
            "tags": []
          },
          "execution_count": 13
        }
      ]
    },
    {
      "cell_type": "markdown",
      "metadata": {
        "id": "5i9-KUmv0RQr"
      },
      "source": [
        "## **Regresion Logistica**"
      ]
    },
    {
      "cell_type": "markdown",
      "metadata": {
        "id": "ndrlaS-DC88Q"
      },
      "source": [
        "Para una clasificacion binaria, nos apoyamos de una funcion mateamatica llamada Sigmoide. Si en caso de que la clasificacion tuviera mas parametros, hariamos uso de la funcion Softmax\n",
        "\n",
        "A la regresión lineal también se le agrega el sigmoide que nos dará una probabilidad de salida y con ello resolvemos nuestro problema de pasar una regresión lineal a una regresión logística y debido a este cambio el MSE ya no será mi mejor forma de calcular el LOSS. Debe cambiar.\n",
        "\n",
        "La aproximación intuitiva es castigar cuando el valor es 0 y la predicción resulta en 1 o viceversa. Esto se logra con el logaritmo porque nos permite modelarlo perfectamente y ahora nuestra función de pérdida o LOSS va a incluir logaritmos.\n",
        "\n",
        "Para problemas de probabilidad, utilizamos una regresión logística\n",
        "Para calcular el error(loss), nos basamos en la entropía pero el gradiente sigue siendo útil"
      ]
    },
    {
      "cell_type": "code",
      "metadata": {
        "id": "Ihx0Dy-sz6bo"
      },
      "source": [
        "n = 100\n",
        "h = n//2\n",
        "dimen = 2\n",
        "\n",
        "data = np.random.randn(n, dimen)*3"
      ],
      "execution_count": null,
      "outputs": []
    },
    {
      "cell_type": "code",
      "metadata": {
        "colab": {
          "base_uri": "https://localhost:8080/",
          "height": 282
        },
        "id": "5H-Xm7kVPG_k",
        "outputId": "d1bc5bf6-5d69-4b07-c71e-461dbb8e28ed"
      },
      "source": [
        "plt.scatter(data[:,0], data[:,1]) "
      ],
      "execution_count": null,
      "outputs": [
        {
          "output_type": "execute_result",
          "data": {
            "text/plain": [
              "<matplotlib.collections.PathCollection at 0x7f4ae8c8beb8>"
            ]
          },
          "metadata": {
            "tags": []
          },
          "execution_count": 36
        },
        {
          "output_type": "display_data",
          "data": {
            "image/png": "[encoded data removed]",
            "text/plain": [
              "<Figure size 432x288 with 1 Axes>"
            ]
          },
          "metadata": {
            "tags": [],
            "needs_background": "light"
          }
        }
      ]
    },
    {
      "cell_type": "code",
      "metadata": {
        "id": "tA8xY66oQwP5"
      },
      "source": [
        "data[:h, :]= data[:h, :] - 3*np.ones((h, dimen))"
      ],
      "execution_count": null,
      "outputs": []
    },
    {
      "cell_type": "code",
      "metadata": {
        "id": "tGn6163xRAmR"
      },
      "source": [
        "data[:h, :]= data[:h, :] + 3*np.ones((h, dimen))"
      ],
      "execution_count": null,
      "outputs": []
    },
    {
      "cell_type": "code",
      "metadata": {
        "colab": {
          "base_uri": "https://localhost:8080/",
          "height": 282
        },
        "id": "gAiHXQtkRTIx",
        "outputId": "0ddbdf95-8db6-495b-d41b-51bbdf0adc22"
      },
      "source": [
        "colors = ['blue','red']\n",
        "\n",
        "color = np.array([colors[0]]*h + [colors[1]]*h).reshape(n)\n",
        "plt.scatter(data[:,0], data[:,1], c=color, s=75, alpha=0.6)"
      ],
      "execution_count": null,
      "outputs": [
        {
          "output_type": "execute_result",
          "data": {
            "text/plain": [
              "<matplotlib.collections.PathCollection at 0x7f4ae8c06748>"
            ]
          },
          "metadata": {
            "tags": []
          },
          "execution_count": 39
        },
        {
          "output_type": "display_data",
          "data": {
            "image/png": "[encoded data removed]",
            "text/plain": [
              "<Figure size 432x288 with 1 Axes>"
            ]
          },
          "metadata": {
            "tags": [],
            "needs_background": "light"
          }
        }
      ]
    },
    {
      "cell_type": "code",
      "metadata": {
        "colab": {
          "base_uri": "https://localhost:8080/"
        },
        "id": "_DBp_ICcRrqx",
        "outputId": "1f9ad0ba-68b6-43a9-bfdd-2b4413a5b60a"
      },
      "source": [
        "target = np.array([0]*h + [1]*h).reshape(n, 1)\n",
        "\n",
        "x = torch.from_numpy(data).float().requires_grad_(True)\n",
        "\n",
        "y = torch.from_numpy(target).float()\n",
        "\n",
        "x.shape, y.shape"
      ],
      "execution_count": null,
      "outputs": [
        {
          "output_type": "execute_result",
          "data": {
            "text/plain": [
              "(torch.Size([100, 2]), torch.Size([100, 1]))"
            ]
          },
          "metadata": {
            "tags": []
          },
          "execution_count": 40
        }
      ]
    },
    {
      "cell_type": "code",
      "metadata": {
        "colab": {
          "base_uri": "https://localhost:8080/",
          "height": 282
        },
        "id": "8rh4g_K9RvGg",
        "outputId": "39244d29-1a9a-4206-9219-ca5c954dce23"
      },
      "source": [
        "# primero definimos la estructura del modelo sin datos\n",
        "\n",
        "model = nn.Sequential(\n",
        "          nn.Linear(2,1),\n",
        "          nn.Sigmoid()\n",
        "      )\n",
        "loss_function = nn.BCELoss()  # definimos como se estructura nuestra loss function\n",
        "\n",
        "optimizer = optim.SGD(model.parameters(), lr=0.01) # definimos como se estructura nuestra optimizacion la cual ocupara el modelo anteriormente definido\n",
        "\n",
        "losses = [] # Aqui guardaremos la perdida. \n",
        "\n",
        "iterations = 2000 # el numero de iteraciones que ocuparemos\n",
        "\n",
        "for i in range(iterations):\n",
        "  result = model(x) # aqui indicamos que queremos que ese modelo ocupe x (el tensor de nuestra data)\n",
        "  \n",
        "  loss = loss_function(result, y) # Le indicamos a nuestra funcion ya definida que trabaje con nuestro target\n",
        "  losses.append(loss.data) # Le pedimos que guarde la perdida del modelo, segun el target en esta variable. \n",
        "  \n",
        "  optimizer.zero_grad()\n",
        "  loss.backward()\n",
        "  \n",
        "  optimizer.step()\n",
        "\n",
        "plt.plot(range(iterations), losses) # graficamos la perdida segun el numero de iteraciones\n",
        "loss"
      ],
      "execution_count": null,
      "outputs": [
        {
          "output_type": "execute_result",
          "data": {
            "text/plain": [
              "tensor(0.6836, grad_fn=<BinaryCrossEntropyBackward>)"
            ]
          },
          "metadata": {
            "tags": []
          },
          "execution_count": 41
        },
        {
          "output_type": "display_data",
          "data": {
            "image/png": "[encoded data removed]",
            "text/plain": [
              "<Figure size 432x288 with 1 Axes>"
            ]
          },
          "metadata": {
            "tags": [],
            "needs_background": "light"
          }
        }
      ]
    },
    {
      "cell_type": "code",
      "metadata": {
        "colab": {
          "base_uri": "https://localhost:8080/"
        },
        "id": "Dr5VFE9IRxtJ",
        "outputId": "bdd53752-6256-41ed-ce47-73cd87e8366b"
      },
      "source": [
        "blue = torch.Tensor([[-5, -6]])\n",
        "prediction = model(blue).data[0][0] > 0.5\n",
        "print(colors[prediction])\n",
        "\n",
        "red = torch.Tensor([[8, 6]])\n",
        "prediction = model(red).data[0][0] > 0.5\n",
        "print(colors[prediction])"
      ],
      "execution_count": null,
      "outputs": [
        {
          "output_type": "stream",
          "text": [
            "blue\n",
            "red\n"
          ],
          "name": "stdout"
        }
      ]
    },
    {
      "cell_type": "code",
      "metadata": {
        "colab": {
          "base_uri": "https://localhost:8080/",
          "height": 282
        },
        "id": "vZ2pBTmpR0CJ",
        "outputId": "b1a8bed6-6bf2-4f4e-d8b9-e0fd0e6b70da"
      },
      "source": [
        "w = list(model.parameters())\n",
        "w0 = w[0].data.numpy()\n",
        "w1 = w[1].data.numpy()\n",
        "\n",
        "plt.scatter(data[:,0], data[:,1], c=color, s=75, alpha=0.6)\n",
        "\n",
        "# Eje X & eje Y\n",
        "\n",
        "x_axis = np.linspace(-10, 10, n)\n",
        "y_axis = -(w1[0] + x_axis*w0[0][0]) / w0[0][1]\n",
        "plt.plot(x_axis, y_axis,'g--')"
      ],
      "execution_count": null,
      "outputs": [
        {
          "output_type": "execute_result",
          "data": {
            "text/plain": [
              "[<matplotlib.lines.Line2D at 0x7f4ae8bc84e0>]"
            ]
          },
          "metadata": {
            "tags": []
          },
          "execution_count": 43
        },
        {
          "output_type": "display_data",
          "data": {
            "image/png": "[encoded data removed]",
            "text/plain": [
              "<Figure size 432x288 with 1 Axes>"
            ]
          },
          "metadata": {
            "tags": [],
            "needs_background": "light"
          }
        }
      ]
    }
  ]
}
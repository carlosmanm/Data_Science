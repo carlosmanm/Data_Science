{
 "cells": [
  {
   "cell_type": "code",
   "execution_count": 26,
   "id": "0e3c97dd-9ef0-4529-8b9d-5c7a3eadf1ad",
   "metadata": {},
   "outputs": [],
   "source": [
    "import pandas as pd\n",
    "import kaggle\n",
    "import pyspark"
   ]
  },
  {
   "cell_type": "code",
   "execution_count": 30,
   "id": "92da9982-7b0b-4d52-b0da-d00ffc53b6b2",
   "metadata": {},
   "outputs": [],
   "source": [
    "from pyspark.sql import SparkSession\n",
    "spark = SparkSession.builder.getOrCreate()"
   ]
  },
  {
   "cell_type": "code",
   "execution_count": 14,
   "id": "d3100fc2-f6ac-4118-aa7a-d26d6c84ec7d",
   "metadata": {},
   "outputs": [
    {
     "name": "stdout",
     "output_type": "stream",
     "text": [
      "ref                                                              title                                               size  lastUpdated          downloadCount  voteCount  usabilityRating  \n",
      "---------------------------------------------------------------  -------------------------------------------------  -----  -------------------  -------------  ---------  ---------------  \n",
      "yasserh/wine-quality-dataset                                     Wine Quality Dataset                                21KB  2022-01-15 19:15:11           8298        312  1.0              \n",
      "mkoklu42/pistachio-dataset                                       Pistachio Dataset                                    2MB  2022-02-11 21:06:50            150        572  0.8125           \n",
      "mkoklu42/grapevine-leaves-image-dataset                          Grapevine Leaves Image Dataset                     109MB  2022-02-09 18:21:40            130        560  0.8125           \n",
      "mkoklu42/pumpkin-seeds-dataset                                   Pumpkin Seeds Dataset                              393KB  2022-02-08 15:54:27            667        594  0.7058824        \n",
      "prasertk/netflix-subscription-price-in-different-countries       Netflix subscription fee in different countries      3KB  2022-01-15 07:06:09           6377        189  1.0              \n",
      "mkoklu42/date-fruit-datasets                                     Date Fruit Datasets                                407KB  2022-02-08 15:11:25             81        570  0.64705884       \n",
      "majyhain/height-of-male-and-female-by-country-2022               Height of Male and Female by Country 2022            4KB  2022-02-02 00:40:19           3534        110  1.0              \n",
      "ashishjangra27/ted-talks                                         TED Talks                                          298KB  2022-02-23 15:16:08            901         37  1.0              \n",
      "jainilcoder/netflix-stock-price-prediction                       Netflix Stock Price Prediction                      21KB  2022-02-05 05:06:10           1307         29  1.0              \n",
      "mkoklu42/rice-msc-dataset                                        Rice MSC Dataset                                   102MB  2022-02-08 12:27:51            185        603  0.75             \n",
      "shivavashishtha/shark-tank-india-dataset                         Shark Tank India Dataset                             4KB  2022-02-24 12:57:31            507         36  1.0              \n",
      "mkoklu42/dry-bean-dataset                                        Dry Bean Dataset                                     2MB  2022-02-08 12:36:26             56        571  0.6875           \n",
      "sanjeetsinghnaik/top-1000-highest-grossing-movies                Top 1000 Highest Grossing Movies                   106KB  2022-01-15 16:26:14           4245        148  1.0              \n",
      "georgesaavedra/covid19-dataset                                   COVID-19 dataset                                     9MB  2022-02-25 19:13:10           3443         84  0.9705882        \n",
      "soumyadiptadas/products-sales-timeseries-data                    Products sales time-series data                      1KB  2022-02-24 08:21:51            458         26  1.0              \n",
      "bwandowando/ukraine-russian-crisis-twitter-dataset-1-2-m-rows    Ukraine Conflict Twitter Dataset (3.1M tweets)     702MB  2022-03-04 02:36:25            298         37  1.0              \n",
      "prasertk/michelinstar-restaurants                                Michelin \"star\" restaurants                        364KB  2022-02-23 00:28:16            411         19  1.0              \n",
      "soumyadiptadas/students-math-score-for-different-teaching-style  Student's math score for different teaching style    2KB  2022-02-23 12:36:06            777         24  1.0              \n",
      "robikscube/ubiquant-parquet                                      Ubiquant Competition Data in Parquet Format         13GB  2022-01-19 14:18:59           2322        230  0.6875           \n",
      "prokaggler/global-mobility-data-during-covid-19                  Global Mobility Data during Covid 19                67MB  2022-02-23 13:37:41            258         27  0.9117647        \n"
     ]
    }
   ],
   "source": [
    "!kaggle datasets list"
   ]
  },
  {
   "cell_type": "code",
   "execution_count": 15,
   "id": "560fd890-7236-43e9-8b9b-1615975f1b48",
   "metadata": {},
   "outputs": [
    {
     "name": "stdout",
     "output_type": "stream",
     "text": [
      "Downloading saudi-aramco-production-of-natural-gas-liquids.zip to C:\\Users\\Administrador\\Documents\\Python\\Kaggle API"
     ]
    },
    {
     "name": "stderr",
     "output_type": "stream",
     "text": [
      "\n",
      "  0%|          | 0.00/3.26M [00:00<?, ?B/s]\n",
      " 31%|###       | 1.00M/3.26M [00:00<00:01, 2.31MB/s]\n",
      " 61%|######1   | 2.00M/3.26M [00:00<00:00, 2.69MB/s]\n",
      " 92%|#########2| 3.00M/3.26M [00:01<00:00, 2.81MB/s]\n",
      "100%|##########| 3.26M/3.26M [00:01<00:00, 2.92MB/s]\n"
     ]
    },
    {
     "name": "stdout",
     "output_type": "stream",
     "text": [
      "\n",
      "\n"
     ]
    }
   ],
   "source": [
    "!kaggle datasets download -d mathurinache/saudi-aramco-production-of-natural-gas-liquids"
   ]
  },
  {
   "cell_type": "code",
   "execution_count": 16,
   "id": "2793b93e-6736-4ccf-ae13-c9aef71969bb",
   "metadata": {},
   "outputs": [
    {
     "name": "stdout",
     "output_type": "stream",
     "text": [
      "Requirement already satisfied: unzip in c:\\users\\administrador\\anaconda3\\lib\\site-packages (1.0.0)\n",
      "Note: you may need to restart the kernel to use updated packages.\n"
     ]
    }
   ],
   "source": [
    "pip install unzip"
   ]
  },
  {
   "cell_type": "code",
   "execution_count": 17,
   "id": "5e80e06c-4ca2-4665-9175-ef8ea74844d3",
   "metadata": {},
   "outputs": [
    {
     "name": "stdout",
     "output_type": "stream",
     "text": [
      "Archive:  saudi-aramco-production-of-natural-gas-liquids.zip\n",
      "  inflating: data/Annual_Statistics_2020.xlsx  \n"
     ]
    }
   ],
   "source": [
    "!unzip saudi-aramco-production-of-natural-gas-liquids.zip -d data/"
   ]
  },
  {
   "cell_type": "code",
   "execution_count": null,
   "id": "489133a8-6c5f-4ace-81ba-bba17e3c87df",
   "metadata": {},
   "outputs": [],
   "source": [
    "df = spark.read_csv(\"file.csv\", header=True, inferSchema=True)\n",
    "df.show()"
   ]
  }
 ],
 "metadata": {
  "kernelspec": {
   "display_name": "Python 3 (ipykernel)",
   "language": "python",
   "name": "python3"
  },
  "language_info": {
   "codemirror_mode": {
    "name": "ipython",
    "version": 3
   },
   "file_extension": ".py",
   "mimetype": "text/x-python",
   "name": "python",
   "nbconvert_exporter": "python",
   "pygments_lexer": "ipython3",
   "version": "3.9.7"
  }
 },
 "nbformat": 4,
 "nbformat_minor": 5
}

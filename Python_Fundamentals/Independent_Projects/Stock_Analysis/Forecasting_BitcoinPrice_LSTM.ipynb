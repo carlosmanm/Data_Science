{
  "nbformat": 4,
  "nbformat_minor": 0,
  "metadata": {
    "colab": {
      "name": "Forecasting_BitcoinPrice_LSTM.ipynb",
      "provenance": [],
      "collapsed_sections": [],
      "authorship_tag": "ABX9TyOWvm2EGsVlJIua9N2fw3jk",
      "include_colab_link": true
    },
    "kernelspec": {
      "name": "python3",
      "display_name": "Python 3"
    },
    "language_info": {
      "name": "python"
    }
  },
  "cells": [
    {
      "cell_type": "markdown",
      "metadata": {
        "id": "view-in-github",
        "colab_type": "text"
      },
      "source": [
        "<a href=\"https://colab.research.google.com/github/carlosmanm/Data_Science/blob/main/Python_Fundamentals/Independent_Projects/Stock_Analysis/Forecasting_BitcoinPrice_LSTM.ipynb\" target=\"_parent\"><img src=\"https://colab.research.google.com/assets/colab-badge.svg\" alt=\"Open In Colab\"/></a>"
      ]
    },
    {
      "cell_type": "markdown",
      "source": [
        "# Forecasting Bitcoin Price"
      ],
      "metadata": {
        "id": "9KCCN-gnUvrJ"
      }
    },
    {
      "cell_type": "code",
      "source": [
        "# Description: this program uses an artificial recurrent neural network called Long Short Term Memory (LSTM) to predict the closing stock price of the bitcoin (BTC-USD) using the past 3 years stock price"
      ],
      "metadata": {
        "id": "v7wRScJPY6r0"
      },
      "execution_count": null,
      "outputs": []
    },
    {
      "cell_type": "code",
      "source": [
        "# pip install yfinance"
      ],
      "metadata": {
        "id": "3BwRXBcuUCEy"
      },
      "execution_count": null,
      "outputs": []
    },
    {
      "cell_type": "markdown",
      "source": [
        "## Installing the libraries"
      ],
      "metadata": {
        "id": "3m1yIujuZOWF"
      }
    },
    {
      "cell_type": "code",
      "source": [
        "import pandas as pd\n",
        "from pandas_datareader import data as pdr\n",
        "import yfinance as yfin"
      ],
      "metadata": {
        "id": "YWqtMuOcSV8E"
      },
      "execution_count": null,
      "outputs": []
    },
    {
      "cell_type": "code",
      "source": [
        "import math\n",
        "import numpy as np\n",
        "from sklearn.preprocessing import MinMaxScaler\n",
        "from keras.models import Sequential\n",
        "from keras.layers import Dense, LSTM\n",
        "import matplotlib.pyplot as plt\n",
        "plt.style.use(\"fivethirtyeight\")"
      ],
      "metadata": {
        "id": "yasoVAOfUjgy"
      },
      "execution_count": null,
      "outputs": []
    },
    {
      "cell_type": "markdown",
      "source": [
        "## Load the data"
      ],
      "metadata": {
        "id": "IoqSk3NEZS2V"
      }
    },
    {
      "cell_type": "code",
      "source": [
        "yfin.pdr_override()"
      ],
      "metadata": {
        "id": "Ty-m74KTTB_l"
      },
      "execution_count": null,
      "outputs": []
    },
    {
      "cell_type": "code",
      "source": [
        "df = pdr.get_data_yahoo(\"BTC-USD\", start=\"2019-01-01\", end=\"2022-01-15\")"
      ],
      "metadata": {
        "colab": {
          "base_uri": "https://localhost:8080/"
        },
        "id": "z_7ik4iQS3f8",
        "outputId": "ba4d886e-7060-4d96-a8ce-64fdaa51f58a"
      },
      "execution_count": null,
      "outputs": [
        {
          "output_type": "stream",
          "name": "stdout",
          "text": [
            "\r[*********************100%***********************]  1 of 1 completed\n"
          ]
        }
      ]
    },
    {
      "cell_type": "code",
      "source": [
        "df.columns"
      ],
      "metadata": {
        "colab": {
          "base_uri": "https://localhost:8080/"
        },
        "id": "5Vo7nZUrXApB",
        "outputId": "984c3d3d-8c1a-4488-b152-449561603420"
      },
      "execution_count": null,
      "outputs": [
        {
          "output_type": "execute_result",
          "data": {
            "text/plain": [
              "Index(['Open', 'High', 'Low', 'Close', 'Adj Close', 'Volume'], dtype='object')"
            ]
          },
          "metadata": {},
          "execution_count": 34
        }
      ]
    },
    {
      "cell_type": "markdown",
      "source": [
        "## Working with the data"
      ],
      "metadata": {
        "id": "sEWZ4GTTZV9U"
      }
    },
    {
      "cell_type": "code",
      "source": [
        "# Get the number of rows and columns in the dataset\n",
        "df.shape"
      ],
      "metadata": {
        "colab": {
          "base_uri": "https://localhost:8080/"
        },
        "id": "DQGJRsQTVCqf",
        "outputId": "21352784-1996-4461-9044-073bd50ab0e9"
      },
      "execution_count": null,
      "outputs": [
        {
          "output_type": "execute_result",
          "data": {
            "text/plain": [
              "(1111, 6)"
            ]
          },
          "metadata": {},
          "execution_count": 38
        }
      ]
    },
    {
      "cell_type": "code",
      "source": [
        "# Visualize the closing price history\n",
        "\n",
        "plt.figure(figsize = (16, 8))\n",
        "plt.title('Close Price History')\n",
        "plt.plot(df['Close'])\n",
        "plt.xlabel('Date', fontsize=18)\n",
        "plt.ylabel('Close Price USD($)', fontsize=18)\n",
        "plt.show()"
      ],
      "metadata": {
        "colab": {
          "base_uri": "https://localhost:8080/",
          "height": 558
        },
        "id": "GhfeIbPZWFhK",
        "outputId": "1d47470e-ba56-487f-dcaf-2f00aa236ee1"
      },
      "execution_count": null,
      "outputs": [
        {
          "output_type": "display_data",
          "data": {
            "image/png": "[encoded data removed]",
            "text/plain": [
              "<Figure size 1152x576 with 1 Axes>"
            ]
          },
          "metadata": {}
        }
      ]
    },
    {
      "cell_type": "code",
      "source": [
        "# Create a new df with only the close column\n",
        "\n",
        "data = df.filter(['Close'])\n",
        "\n",
        "# Convert the df to a numpy array\n",
        "\n",
        "dataset = data.values\n",
        "\n",
        "# Get the number of rows to train the model on\n",
        "\n",
        "training_data_len = math.ceil(len(dataset) * .8)\n",
        "\n",
        "training_data_len\n",
        "\n"
      ],
      "metadata": {
        "colab": {
          "base_uri": "https://localhost:8080/"
        },
        "id": "nug57HdJW7CW",
        "outputId": "ef3e288f-80e3-41db-9865-bfc7a01cd0ba"
      },
      "execution_count": null,
      "outputs": [
        {
          "output_type": "execute_result",
          "data": {
            "text/plain": [
              "889"
            ]
          },
          "metadata": {},
          "execution_count": 40
        }
      ]
    },
    {
      "cell_type": "code",
      "source": [
        "# Scale the data: advantage to apply preprocessing to input before it is presented to a neural network. It's a good practice.\n",
        "\n",
        "scaler = MinMaxScaler(feature_range=(0,1))\n",
        "\n",
        "scaled_data = scaler.fit_transform(dataset)\n",
        "\n",
        "scaled_data"
      ],
      "metadata": {
        "colab": {
          "base_uri": "https://localhost:8080/"
        },
        "id": "v8bmUUtdYOKI",
        "outputId": "3af2c083-370f-4701-c146-c5b14988bb5e"
      },
      "execution_count": null,
      "outputs": [
        {
          "output_type": "execute_result",
          "data": {
            "text/plain": [
              "array([[0.00692016],\n",
              "       [0.00847686],\n",
              "       [0.00681452],\n",
              "       ...,\n",
              "       [0.61077939],\n",
              "       [0.61869819],\n",
              "       [0.61990908]])"
            ]
          },
          "metadata": {},
          "execution_count": 42
        }
      ]
    },
    {
      "cell_type": "code",
      "source": [
        "# Create the training dataset.\n",
        "\n",
        "# Create the scaled training data set\n",
        "\n",
        "train_data = scaled_data[0:training_data_len, :]\n",
        "\n",
        "# Split the data into x_train and y_train data sets\n",
        "\n",
        "x_train = []\n",
        "y_train = []\n",
        "\n",
        "for i in range(60, len(train_data)):\n",
        "  x_train.append(train_data[i-60:i,0])\n",
        "  y_train.append(train_data[i, 0])\n",
        "  if i <=61:\n",
        "    print(x_train)\n",
        "    print(y_train)\n",
        "    print()\n",
        "\n",
        "# y contains the 61 value that we want our model to predict and the X underscore train dataset contains the past 60 values"
      ],
      "metadata": {
        "colab": {
          "base_uri": "https://localhost:8080/"
        },
        "id": "wTR0kfQnYcPb",
        "outputId": "52a39bfb-ddf1-4f77-8d46-144a569e66fb"
      },
      "execution_count": null,
      "outputs": [
        {
          "output_type": "stream",
          "name": "stdout",
          "text": [
            "[array([0.00692016, 0.00847686, 0.00681452, 0.00714142, 0.00694626,\n",
            "       0.01055304, 0.00975226, 0.00983952, 0.00990885, 0.00435506,\n",
            "       0.00448661, 0.00408041, 0.00239189, 0.00477783, 0.00360313,\n",
            "       0.00398232, 0.00434944, 0.00402647, 0.00512872, 0.00314088,\n",
            "       0.00275157, 0.00319641, 0.00289324, 0.00313857, 0.00312143,\n",
            "       0.00316343, 0.0028752 , 0.00110615, 0.0007581 , 0.00135131,\n",
            "       0.00090889, 0.0013788 , 0.00189487, 0.00100583, 0.0009301 ,\n",
            "       0.00104236, 0.00022279, 0.        , 0.0041658 , 0.00423474,\n",
            "       0.0045306 , 0.00387984, 0.00395929, 0.00362488, 0.00338816,\n",
            "       0.0034494 , 0.0035893 , 0.00427576, 0.00804525, 0.00853429,\n",
            "       0.00935599, 0.00864375, 0.00944491, 0.01157996, 0.00640444,\n",
            "       0.00753069, 0.00708906, 0.00703747, 0.00709572, 0.0071705 ])]\n",
            "[0.007245792644913686]\n",
            "\n",
            "[array([0.00692016, 0.00847686, 0.00681452, 0.00714142, 0.00694626,\n",
            "       0.01055304, 0.00975226, 0.00983952, 0.00990885, 0.00435506,\n",
            "       0.00448661, 0.00408041, 0.00239189, 0.00477783, 0.00360313,\n",
            "       0.00398232, 0.00434944, 0.00402647, 0.00512872, 0.00314088,\n",
            "       0.00275157, 0.00319641, 0.00289324, 0.00313857, 0.00312143,\n",
            "       0.00316343, 0.0028752 , 0.00110615, 0.0007581 , 0.00135131,\n",
            "       0.00090889, 0.0013788 , 0.00189487, 0.00100583, 0.0009301 ,\n",
            "       0.00104236, 0.00022279, 0.        , 0.0041658 , 0.00423474,\n",
            "       0.0045306 , 0.00387984, 0.00395929, 0.00362488, 0.00338816,\n",
            "       0.0034494 , 0.0035893 , 0.00427576, 0.00804525, 0.00853429,\n",
            "       0.00935599, 0.00864375, 0.00944491, 0.01157996, 0.00640444,\n",
            "       0.00753069, 0.00708906, 0.00703747, 0.00709572, 0.0071705 ]), array([0.00847686, 0.00681452, 0.00714142, 0.00694626, 0.01055304,\n",
            "       0.00975226, 0.00983952, 0.00990885, 0.00435506, 0.00448661,\n",
            "       0.00408041, 0.00239189, 0.00477783, 0.00360313, 0.00398232,\n",
            "       0.00434944, 0.00402647, 0.00512872, 0.00314088, 0.00275157,\n",
            "       0.00319641, 0.00289324, 0.00313857, 0.00312143, 0.00316343,\n",
            "       0.0028752 , 0.00110615, 0.0007581 , 0.00135131, 0.00090889,\n",
            "       0.0013788 , 0.00189487, 0.00100583, 0.0009301 , 0.00104236,\n",
            "       0.00022279, 0.        , 0.0041658 , 0.00423474, 0.0045306 ,\n",
            "       0.00387984, 0.00395929, 0.00362488, 0.00338816, 0.0034494 ,\n",
            "       0.0035893 , 0.00427576, 0.00804525, 0.00853429, 0.00935599,\n",
            "       0.00864375, 0.00944491, 0.01157996, 0.00640444, 0.00753069,\n",
            "       0.00708906, 0.00703747, 0.00709572, 0.0071705 , 0.00724579])]\n",
            "[0.007245792644913686, 0.006977131774846636]\n",
            "\n"
          ]
        }
      ]
    },
    {
      "cell_type": "code",
      "source": [
        "# the last 2 values are that I just predicted\n",
        "\n",
        "# Convert the x_train and y_train to numpy arrays\n",
        "\n",
        "x_train, y_train = np.array(x_train), np.array(y_train)"
      ],
      "metadata": {
        "id": "nqJF114VaW20"
      },
      "execution_count": null,
      "outputs": []
    },
    {
      "cell_type": "code",
      "source": [
        "x_train.shape"
      ],
      "metadata": {
        "colab": {
          "base_uri": "https://localhost:8080/"
        },
        "id": "xFTkntEBcFUo",
        "outputId": "5c90a1fa-87d0-4675-bb15-5e1791a22670"
      },
      "execution_count": null,
      "outputs": [
        {
          "output_type": "execute_result",
          "data": {
            "text/plain": [
              "(829, 60)"
            ]
          },
          "metadata": {},
          "execution_count": 52
        }
      ]
    },
    {
      "cell_type": "code",
      "source": [
        "# Reshape the data, cause the lsdm network expects the imput to be 3-dimensional in the form of samples, number of time steps and number of features and right now is 2-dimensional.\n",
        "\n",
        "x_train = np.reshape(x_train, (x_train.shape[0], x_train.shape[1], 1)) # x_train.shape[0] is rows, and x_train.shape[1] is columns\n",
        "\n",
        "x_train.shape"
      ],
      "metadata": {
        "colab": {
          "base_uri": "https://localhost:8080/"
        },
        "id": "Jl75lN4Wbij2",
        "outputId": "18fb9ad7-ede5-4370-e394-3c74f33ac180"
      },
      "execution_count": null,
      "outputs": [
        {
          "output_type": "execute_result",
          "data": {
            "text/plain": [
              "(829, 60, 1)"
            ]
          },
          "metadata": {},
          "execution_count": 54
        }
      ]
    },
    {
      "cell_type": "code",
      "source": [
        "# Build the LSTM model\n",
        "\n",
        "model = Sequential()\n",
        "model.add(LSTM(50, return_sequences=True, input_shape = (x_train.shape[1], 1)))\n",
        "model.add(LSTM(50, return_sequences=False))\n",
        "\n",
        "# Add a few more layers: Building our model architecture\n",
        "\n",
        "model.add(Dense(25))\n",
        "\n",
        "model.add(Dense(1))\n"
      ],
      "metadata": {
        "id": "Ra9jq0mjb5Ol"
      },
      "execution_count": null,
      "outputs": []
    },
    {
      "cell_type": "code",
      "source": [
        "# Compile the model\n",
        "\n",
        "model.compile(optimizer='adam', loss='mean_squared_error')\n",
        "\n"
      ],
      "metadata": {
        "id": "8If37eplcpiK"
      },
      "execution_count": null,
      "outputs": []
    },
    {
      "cell_type": "code",
      "source": [
        "# Train the model\n",
        "\n",
        "model.fit(x_train, y_train, batch_size=1, epochs=1) # epoch is the number of iterations when an entire dataset is passed forward and backward through a neural network"
      ],
      "metadata": {
        "colab": {
          "base_uri": "https://localhost:8080/"
        },
        "id": "pdP-bgEBdaBd",
        "outputId": "ec6c1a82-2048-487b-efdf-53e44958e9ed"
      },
      "execution_count": null,
      "outputs": [
        {
          "output_type": "stream",
          "name": "stdout",
          "text": [
            "829/829 [==============================] - 26s 28ms/step - loss: 0.0028\n"
          ]
        },
        {
          "output_type": "execute_result",
          "data": {
            "text/plain": [
              "<keras.callbacks.History at 0x7f78e8e8c210>"
            ]
          },
          "metadata": {},
          "execution_count": 58
        }
      ]
    },
    {
      "cell_type": "code",
      "source": [
        "# Creating the testing dataset\n",
        "# Lest create a new array containing scaled values from index 829 to 1111\n",
        "\n",
        "test_data = scaled_data[training_data_len - 60: , :]\n",
        "# Create the data sets x_test and y_test\n",
        "\n",
        "x_test = []\n",
        "y_test = dataset[training_data_len:,:]\n",
        "\n",
        "for i in range(60, len(test_data)):\n",
        "  x_test.append(test_data[i-60:i, 0])\n"
      ],
      "metadata": {
        "id": "gLslqL8Ddyym"
      },
      "execution_count": null,
      "outputs": []
    },
    {
      "cell_type": "code",
      "source": [
        "# Convert the data to a numpy array\n",
        "\n",
        "x_test = np.array(x_test)"
      ],
      "metadata": {
        "id": "x1h2utqke_Wp"
      },
      "execution_count": null,
      "outputs": []
    },
    {
      "cell_type": "code",
      "source": [
        "# Reshape the data\n",
        "\n",
        "x_test = np.reshape(x_test, (x_test.shape[0], x_test.shape[1], 1))"
      ],
      "metadata": {
        "id": "RgowvYDMfKOl"
      },
      "execution_count": null,
      "outputs": []
    },
    {
      "cell_type": "code",
      "source": [
        "# Get the models predicted price values\n",
        "\n",
        "predictions = model.predict(x_test)\n",
        "predictions = scaler.inverse_transform(predictions)"
      ],
      "metadata": {
        "id": "4NVJ6zeNfYa8"
      },
      "execution_count": null,
      "outputs": []
    },
    {
      "cell_type": "code",
      "source": [
        "# Get the root mean squared error (RMSE)\n",
        "\n",
        "rmse = np.sqrt(np.mean(predictions - y_test) ** 2)\n",
        "rmse"
      ],
      "metadata": {
        "colab": {
          "base_uri": "https://localhost:8080/"
        },
        "id": "3GBtpTITftGW",
        "outputId": "f9d4f5ed-943f-45d2-ce0c-032d9d383c09"
      },
      "execution_count": null,
      "outputs": [
        {
          "output_type": "execute_result",
          "data": {
            "text/plain": [
              "2764.2968925957207"
            ]
          },
          "metadata": {},
          "execution_count": 63
        }
      ]
    },
    {
      "cell_type": "code",
      "source": [
        "# Plot the data\n",
        "\n",
        "train = data[:training_data_len]\n",
        "valid = data[training_data_len:]\n",
        "valid['Predictions'] = predictions\n",
        "\n",
        "# Visualize the data\n",
        "\n",
        "plt.figure(figsize=(16, 8))\n",
        "plt.title('Model LSTM')\n",
        "plt.xlabel('Date', fontsize=18)\n",
        "plt.ylabel('Close Price USD ($)', fontsize=18)\n",
        "plt.plot(train['Close'])\n",
        "plt.plot(valid[['Close', 'Predictions']])\n",
        "plt.legend(['Train', 'Valid', 'Predictions'], loc='lower right')\n",
        "plt.show()"
      ],
      "metadata": {
        "colab": {
          "base_uri": "https://localhost:8080/",
          "height": 662
        },
        "id": "yvHmuH4tf_Q2",
        "outputId": "5943416b-0149-46da-bac6-30167ba8133c"
      },
      "execution_count": null,
      "outputs": [
        {
          "output_type": "stream",
          "name": "stderr",
          "text": [
            "/usr/local/lib/python3.7/dist-packages/ipykernel_launcher.py:5: SettingWithCopyWarning: \n",
            "A value is trying to be set on a copy of a slice from a DataFrame.\n",
            "Try using .loc[row_indexer,col_indexer] = value instead\n",
            "\n",
            "See the caveats in the documentation: https://pandas.pydata.org/pandas-docs/stable/user_guide/indexing.html#returning-a-view-versus-a-copy\n",
            "  \"\"\"\n"
          ]
        },
        {
          "output_type": "display_data",
          "data": {
            "image/png": "[encoded data removed]",
            "text/plain": [
              "<Figure size 1152x576 with 1 Axes>"
            ]
          },
          "metadata": {}
        }
      ]
    },
    {
      "cell_type": "code",
      "source": [
        "# Show the valid and predicted prices\n",
        "\n",
        "valid"
      ],
      "metadata": {
        "colab": {
          "base_uri": "https://localhost:8080/",
          "height": 455
        },
        "id": "cOiKjfZZhL1d",
        "outputId": "f01a18bb-66b0-4657-bcd3-f83edffcc202"
      },
      "execution_count": null,
      "outputs": [
        {
          "output_type": "execute_result",
          "data": {
            "text/html": [
              "\n",
              "  <div id=\"df-643e1e85-f8a6-4810-9867-c439a08d4207\">\n",
              "    <div class=\"colab-df-container\">\n",
              "      <div>\n",
              "<style scoped>\n",
              "    .dataframe tbody tr th:only-of-type {\n",
              "        vertical-align: middle;\n",
              "    }\n",
              "\n",
              "    .dataframe tbody tr th {\n",
              "        vertical-align: top;\n",
              "    }\n",
              "\n",
              "    .dataframe thead th {\n",
              "        text-align: right;\n",
              "    }\n",
              "</style>\n",
              "<table border=\"1\" class=\"dataframe\">\n",
              "  <thead>\n",
              "    <tr style=\"text-align: right;\">\n",
              "      <th></th>\n",
              "      <th>Close</th>\n",
              "      <th>Predictions</th>\n",
              "    </tr>\n",
              "    <tr>\n",
              "      <th>Date</th>\n",
              "      <th></th>\n",
              "      <th></th>\n",
              "    </tr>\n",
              "  </thead>\n",
              "  <tbody>\n",
              "    <tr>\n",
              "      <th>2021-06-08</th>\n",
              "      <td>33472.632812</td>\n",
              "      <td>39630.667969</td>\n",
              "    </tr>\n",
              "    <tr>\n",
              "      <th>2021-06-09</th>\n",
              "      <td>37345.121094</td>\n",
              "      <td>39038.835938</td>\n",
              "    </tr>\n",
              "    <tr>\n",
              "      <th>2021-06-10</th>\n",
              "      <td>36702.597656</td>\n",
              "      <td>38884.917969</td>\n",
              "    </tr>\n",
              "    <tr>\n",
              "      <th>2021-06-11</th>\n",
              "      <td>37334.398438</td>\n",
              "      <td>38895.929688</td>\n",
              "    </tr>\n",
              "    <tr>\n",
              "      <th>2021-06-12</th>\n",
              "      <td>35552.515625</td>\n",
              "      <td>39070.601562</td>\n",
              "    </tr>\n",
              "    <tr>\n",
              "      <th>...</th>\n",
              "      <td>...</td>\n",
              "      <td>...</td>\n",
              "    </tr>\n",
              "    <tr>\n",
              "      <th>2022-01-11</th>\n",
              "      <td>42735.855469</td>\n",
              "      <td>46263.746094</td>\n",
              "    </tr>\n",
              "    <tr>\n",
              "      <th>2022-01-12</th>\n",
              "      <td>43949.101562</td>\n",
              "      <td>45959.460938</td>\n",
              "    </tr>\n",
              "    <tr>\n",
              "      <th>2022-01-13</th>\n",
              "      <td>42591.570312</td>\n",
              "      <td>45945.101562</td>\n",
              "    </tr>\n",
              "    <tr>\n",
              "      <th>2022-01-14</th>\n",
              "      <td>43099.699219</td>\n",
              "      <td>45926.679688</td>\n",
              "    </tr>\n",
              "    <tr>\n",
              "      <th>2022-01-15</th>\n",
              "      <td>43177.398438</td>\n",
              "      <td>45973.289062</td>\n",
              "    </tr>\n",
              "  </tbody>\n",
              "</table>\n",
              "<p>222 rows × 2 columns</p>\n",
              "</div>\n",
              "      <button class=\"colab-df-convert\" onclick=\"convertToInteractive('df-643e1e85-f8a6-4810-9867-c439a08d4207')\"\n",
              "              title=\"Convert this dataframe to an interactive table.\"\n",
              "              style=\"display:none;\">\n",
              "        \n",
              "  <svg xmlns=\"http://www.w3.org/2000/svg\" height=\"24px\"viewBox=\"0 0 24 24\"\n",
              "       width=\"24px\">\n",
              "    <path d=\"M0 0h24v24H0V0z\" fill=\"none\"/>\n",
              "    <path d=\"M18.56 5.44l.94 2.06.94-2.06 2.06-.94-2.06-.94-.94-2.06-.94 2.06-2.06.94zm-11 1L8.5 8.5l.94-2.06 2.06-.94-2.06-.94L8.5 2.5l-.94 2.06-2.06.94zm10 10l.94 2.06.94-2.06 2.06-.94-2.06-.94-.94-2.06-.94 2.06-2.06.94z\"/><path d=\"M17.41 7.96l-1.37-1.37c-.4-.4-.92-.59-1.43-.59-.52 0-1.04.2-1.43.59L10.3 9.45l-7.72 7.72c-.78.78-.78 2.05 0 2.83L4 21.41c.39.39.9.59 1.41.59.51 0 1.02-.2 1.41-.59l7.78-7.78 2.81-2.81c.8-.78.8-2.07 0-2.86zM5.41 20L4 18.59l7.72-7.72 1.47 1.35L5.41 20z\"/>\n",
              "  </svg>\n",
              "      </button>\n",
              "      \n",
              "  <style>\n",
              "    .colab-df-container {\n",
              "      display:flex;\n",
              "      flex-wrap:wrap;\n",
              "      gap: 12px;\n",
              "    }\n",
              "\n",
              "    .colab-df-convert {\n",
              "      background-color: #E8F0FE;\n",
              "      border: none;\n",
              "      border-radius: 50%;\n",
              "      cursor: pointer;\n",
              "      display: none;\n",
              "      fill: #1967D2;\n",
              "      height: 32px;\n",
              "      padding: 0 0 0 0;\n",
              "      width: 32px;\n",
              "    }\n",
              "\n",
              "    .colab-df-convert:hover {\n",
              "      background-color: #E2EBFA;\n",
              "      box-shadow: 0px 1px 2px rgba(60, 64, 67, 0.3), 0px 1px 3px 1px rgba(60, 64, 67, 0.15);\n",
              "      fill: #174EA6;\n",
              "    }\n",
              "\n",
              "    [theme=dark] .colab-df-convert {\n",
              "      background-color: #3B4455;\n",
              "      fill: #D2E3FC;\n",
              "    }\n",
              "\n",
              "    [theme=dark] .colab-df-convert:hover {\n",
              "      background-color: #434B5C;\n",
              "      box-shadow: 0px 1px 3px 1px rgba(0, 0, 0, 0.15);\n",
              "      filter: drop-shadow(0px 1px 2px rgba(0, 0, 0, 0.3));\n",
              "      fill: #FFFFFF;\n",
              "    }\n",
              "  </style>\n",
              "\n",
              "      <script>\n",
              "        const buttonEl =\n",
              "          document.querySelector('#df-643e1e85-f8a6-4810-9867-c439a08d4207 button.colab-df-convert');\n",
              "        buttonEl.style.display =\n",
              "          google.colab.kernel.accessAllowed ? 'block' : 'none';\n",
              "\n",
              "        async function convertToInteractive(key) {\n",
              "          const element = document.querySelector('#df-643e1e85-f8a6-4810-9867-c439a08d4207');\n",
              "          const dataTable =\n",
              "            await google.colab.kernel.invokeFunction('convertToInteractive',\n",
              "                                                     [key], {});\n",
              "          if (!dataTable) return;\n",
              "\n",
              "          const docLinkHtml = 'Like what you see? Visit the ' +\n",
              "            '<a target=\"_blank\" href=https://colab.research.google.com/notebooks/data_table.ipynb>data table notebook</a>'\n",
              "            + ' to learn more about interactive tables.';\n",
              "          element.innerHTML = '';\n",
              "          dataTable['output_type'] = 'display_data';\n",
              "          await google.colab.output.renderOutput(dataTable, element);\n",
              "          const docLink = document.createElement('div');\n",
              "          docLink.innerHTML = docLinkHtml;\n",
              "          element.appendChild(docLink);\n",
              "        }\n",
              "      </script>\n",
              "    </div>\n",
              "  </div>\n",
              "  "
            ],
            "text/plain": [
              "                   Close   Predictions\n",
              "Date                                  \n",
              "2021-06-08  33472.632812  39630.667969\n",
              "2021-06-09  37345.121094  39038.835938\n",
              "2021-06-10  36702.597656  38884.917969\n",
              "2021-06-11  37334.398438  38895.929688\n",
              "2021-06-12  35552.515625  39070.601562\n",
              "...                  ...           ...\n",
              "2022-01-11  42735.855469  46263.746094\n",
              "2022-01-12  43949.101562  45959.460938\n",
              "2022-01-13  42591.570312  45945.101562\n",
              "2022-01-14  43099.699219  45926.679688\n",
              "2022-01-15  43177.398438  45973.289062\n",
              "\n",
              "[222 rows x 2 columns]"
            ]
          },
          "metadata": {},
          "execution_count": 65
        }
      ]
    },
    {
      "cell_type": "code",
      "source": [
        "# Get the quoate\n",
        "\n",
        "btc_quote = pdr.get_data_yahoo(\"BTC-USD\", start=\"2019-01-01\", end=\"2022-01-15\")\n",
        "\n",
        "# Create a new dataframe\n",
        "\n",
        "new_df = btc_quote.filter(['Close'])\n",
        "\n",
        "# Get the last 60 day closing price value and convert the df to an array\n",
        "\n",
        "last_60_days = new_df[-60:].values\n",
        "\n",
        "# Scaled the data to be the values between 0 and 1\n",
        "\n",
        "last_60_days_scaled = scaler.transform(last_60_days)\n",
        "\n",
        "# Create an empty list\n",
        "\n",
        "X_test = []\n",
        "\n",
        "# Append the past 60 days\n",
        "\n",
        "X_test.append(last_60_days_scaled)\n",
        "\n",
        "# Convert the x_test data set to an array \n",
        "\n",
        "X_test = np.array(X_test)\n",
        "\n",
        "# reshape the data \n",
        "\n",
        "X_test = np.reshape(X_test, (X_test.shape[0], X_test.shape[1], 1))\n",
        "\n",
        "pred_price = model.predict(X_test)\n",
        "\n",
        "# Undo the scaling\n",
        "\n",
        "pred_price = scaler.inverse_transform(pred_price)\n",
        "\n",
        "print(pred_price)"
      ],
      "metadata": {
        "colab": {
          "base_uri": "https://localhost:8080/"
        },
        "id": "XR3BfYE8hbdC",
        "outputId": "ccdccc03-dfdc-40eb-fa0e-5faea362962d"
      },
      "execution_count": null,
      "outputs": [
        {
          "output_type": "stream",
          "name": "stdout",
          "text": [
            "\r[*********************100%***********************]  1 of 1 completed\n",
            "[[46052.945]]\n"
          ]
        }
      ]
    },
    {
      "cell_type": "code",
      "source": [
        "# Get the quote\n",
        "\n",
        "btc_quote2 = pdr.get_data_yahoo(\"BTC-USD\", start=\"2019-01-01\", end=\"2022-01-16\")\n",
        "print(btc_quote2['Close'])\n"
      ],
      "metadata": {
        "colab": {
          "base_uri": "https://localhost:8080/"
        },
        "id": "7ZWpDFwijWRO",
        "outputId": "caacdc6a-072d-4637-a9ab-8010e621c4bf"
      },
      "execution_count": null,
      "outputs": [
        {
          "output_type": "stream",
          "name": "stdout",
          "text": [
            "\r[*********************100%***********************]  1 of 1 completed\n",
            "Date\n",
            "2019-01-01     3843.520020\n",
            "2019-01-02     3943.409424\n",
            "2019-01-03     3836.741211\n",
            "2019-01-04     3857.717529\n",
            "2019-01-05     3845.194580\n",
            "                  ...     \n",
            "2022-01-11    42735.855469\n",
            "2022-01-12    43949.101562\n",
            "2022-01-13    42591.570312\n",
            "2022-01-14    43099.699219\n",
            "2022-01-15    43177.398438\n",
            "Name: Close, Length: 1111, dtype: float64\n"
          ]
        }
      ]
    }
  ]
}
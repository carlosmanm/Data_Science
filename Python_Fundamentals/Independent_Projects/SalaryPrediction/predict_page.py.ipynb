{
 "cells": [
  {
   "cell_type": "code",
   "execution_count": null,
   "id": "063dae7d",
   "metadata": {},
   "outputs": [],
   "source": [
    "import streamlit as st\n",
    "import pickle\n",
    "import numpy as np\n",
    "\n",
    "\n",
    "def load_model():\n",
    "    with open('saved_steps.pkl', 'rb') as file:\n",
    "        data = pickle.load(file)\n",
    "    return data\n",
    "\n",
    "data = load_model()\n",
    "\n",
    "regressor = data[\"model\"]\n",
    "le_country = data[\"le_country\"]\n",
    "le_education = data[\"le_education\"]\n",
    "\n",
    "def show_predict_page():\n",
    "    st.title(\"Software Developer Salary Prediction\")\n",
    "\n",
    "    st.write(\"\"\"### We need some information to predict the salary\"\"\")\n",
    "\n",
    "    countries = (\n",
    "        \"United States\",\n",
    "        \"India\",\n",
    "        \"United Kingdom\",\n",
    "        \"Germany\",\n",
    "        \"Canada\",\n",
    "        \"Brazil\",\n",
    "        \"France\",\n",
    "        \"Spain\",\n",
    "        \"Australia\",\n",
    "        \"Netherlands\",\n",
    "        \"Poland\",\n",
    "        \"Italy\",\n",
    "        \"Russian Federation\",\n",
    "        \"Sweden\",\n",
    "    )\n",
    "\n",
    "    education = (\n",
    "        \"Less than a Bachelors\",\n",
    "        \"Bachelor’s degree\",\n",
    "        \"Master’s degree\",\n",
    "        \"Post grad\",\n",
    "    )\n",
    "\n",
    "    country = st.selectbox(\"Country\", countries)\n",
    "    education = st.selectbox(\"Education Level\", education)\n",
    "\n",
    "    expericence = st.slider(\"Years of Experience\", 0, 50, 3)\n",
    "\n",
    "    ok = st.button(\"Calculate Salary\")\n",
    "    if ok:\n",
    "        X = np.array([[country, education, expericence ]])\n",
    "        X[:, 0] = le_country.transform(X[:,0])\n",
    "        X[:, 1] = le_education.transform(X[:,1])\n",
    "        X = X.astype(float)\n",
    "\n",
    "        salary = regressor.predict(X)\n",
    "        st.subheader(f\"The estimated salary is ${salary[0]:.2f}\")"
   ]
  }
 ],
 "metadata": {
  "kernelspec": {
   "display_name": "Python 3 (ipykernel)",
   "language": "python",
   "name": "python3"
  },
  "language_info": {
   "codemirror_mode": {
    "name": "ipython",
    "version": 3
   },
   "file_extension": ".py",
   "mimetype": "text/x-python",
   "name": "python",
   "nbconvert_exporter": "python",
   "pygments_lexer": "ipython3",
   "version": "3.9.7"
  },
  "varInspector": {
   "cols": {
    "lenName": 16,
    "lenType": 16,
    "lenVar": 40
   },
   "kernels_config": {
    "python": {
     "delete_cmd_postfix": "",
     "delete_cmd_prefix": "del ",
     "library": "var_list.py",
     "varRefreshCmd": "print(var_dic_list())"
    },
    "r": {
     "delete_cmd_postfix": ") ",
     "delete_cmd_prefix": "rm(",
     "library": "var_list.r",
     "varRefreshCmd": "cat(var_dic_list()) "
    }
   },
   "types_to_exclude": [
    "module",
    "function",
    "builtin_function_or_method",
    "instance",
    "_Feature"
   ],
   "window_display": false
  }
 },
 "nbformat": 4,
 "nbformat_minor": 5
}

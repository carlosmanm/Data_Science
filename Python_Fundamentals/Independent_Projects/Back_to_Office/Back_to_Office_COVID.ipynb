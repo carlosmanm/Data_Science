{
  "nbformat": 4,
  "nbformat_minor": 0,
  "metadata": {
    "colab": {
      "name": "Back_to_Office_COVID.ipynb",
      "provenance": [],
      "collapsed_sections": [
        "EmoCCwlBVNX5"
      ],
      "authorship_tag": "ABX9TyNDw311GP4+fBxx+DOUw7DE",
      "include_colab_link": true
    },
    "kernelspec": {
      "name": "python3",
      "display_name": "Python 3"
    },
    "language_info": {
      "name": "python"
    }
  },
  "cells": [
    {
      "cell_type": "markdown",
      "metadata": {
        "id": "view-in-github",
        "colab_type": "text"
      },
      "source": [
        "<a href=\"https://colab.research.google.com/github/carlosmanm/Data_Science/blob/main/Python_Fundamentals/Independent_Projects/Back_to_Office/Back_to_Office_COVID.ipynb\" target=\"_parent\"><img src=\"https://colab.research.google.com/assets/colab-badge.svg\" alt=\"Open In Colab\"/></a>"
      ]
    },
    {
      "cell_type": "markdown",
      "metadata": {
        "id": "-07bQKWcdDuX"
      },
      "source": [
        "# Return to Office - for X groups"
      ]
    },
    {
      "cell_type": "markdown",
      "metadata": {
        "id": "SeyORE59xtdn"
      },
      "source": [
        "# Description of the tool\n",
        "\n",
        "Design of a solution that, based on certain key characteristics of employees, calibrators and internal constraints, can indicate the Waves/Phases that indicate how the segments are being incorporated into the office. \n",
        "\n",
        "In other words... Given the current characteristics of the base and the calibrators, the number of people that can be incorporated into the office are...X\n",
        "\n",
        "And the next group would be...\n",
        "\n",
        "And the next would be...\n",
        "\n",
        "# Key Indicators\n",
        "\n",
        "* Vulnerable Group\n",
        "\n",
        "* Organizational Requirement\n",
        "\n",
        "* Age\n",
        "\n",
        "* Transportation\n",
        "\n",
        "* Vaccination\n",
        "\n",
        "* Children 17 years old or younger\n",
        "\n",
        "\n",
        "* Gauges\n",
        "\n",
        "* Government Indicator: That is, the capacity allowed by the government.\n",
        "* Safe Capacity: This is relative to the Government Indicator and is -10% of what the Government indicates.\n",
        "* Schools\n",
        "\n",
        "What is sought is that, the result indicates the amount of people (or group of people) that can return to the office is this. \n",
        "\n",
        "In addition, this result should be indicated by Building and by Company.\n",
        "\n",
        "Note: In addition, a return in intervals of 20% (preferably no more and no less) is expected.\n",
        "\n",
        "# Internal Restrictions\n",
        "\n",
        "Floor 8 - 3%\n",
        "\n",
        "Floor 7 - 21%\n",
        "\n",
        "Floor 6 - 26% \n",
        "\n",
        "Floor 5 - 24%\n",
        "\n"
      ]
    },
    {
      "cell_type": "code",
      "metadata": {
        "colab": {
          "base_uri": "https://localhost:8080/"
        },
        "id": "Mii3tB28YSif",
        "outputId": "c1556650-e2b0-4d54-9cf8-2057ebd70892"
      },
      "source": [
        "pip install xlsxwriter"
      ],
      "execution_count": null,
      "outputs": [
        {
          "output_type": "stream",
          "text": [
            "Collecting xlsxwriter\n",
            "  Downloading XlsxWriter-1.4.4-py2.py3-none-any.whl (149 kB)\n",
            "\u001b[?25l\r\u001b[K     |██▏                             | 10 kB 33.8 MB/s eta 0:00:01\r\u001b[K     |████▍                           | 20 kB 21.5 MB/s eta 0:00:01\r\u001b[K     |██████▋                         | 30 kB 16.5 MB/s eta 0:00:01\r\u001b[K     |████████▊                       | 40 kB 14.7 MB/s eta 0:00:01\r\u001b[K     |███████████                     | 51 kB 7.1 MB/s eta 0:00:01\r\u001b[K     |█████████████▏                  | 61 kB 8.3 MB/s eta 0:00:01\r\u001b[K     |███████████████▎                | 71 kB 8.7 MB/s eta 0:00:01\r\u001b[K     |█████████████████▌              | 81 kB 9.1 MB/s eta 0:00:01\r\u001b[K     |███████████████████▊            | 92 kB 9.3 MB/s eta 0:00:01\r\u001b[K     |██████████████████████          | 102 kB 7.6 MB/s eta 0:00:01\r\u001b[K     |████████████████████████        | 112 kB 7.6 MB/s eta 0:00:01\r\u001b[K     |██████████████████████████▎     | 122 kB 7.6 MB/s eta 0:00:01\r\u001b[K     |████████████████████████████▌   | 133 kB 7.6 MB/s eta 0:00:01\r\u001b[K     |██████████████████████████████▋ | 143 kB 7.6 MB/s eta 0:00:01\r\u001b[K     |████████████████████████████████| 149 kB 7.6 MB/s \n",
            "\u001b[?25hInstalling collected packages: xlsxwriter\n",
            "Successfully installed xlsxwriter-1.4.4\n"
          ],
          "name": "stdout"
        }
      ]
    },
    {
      "cell_type": "code",
      "metadata": {
        "id": "oKd8QdElc4ID"
      },
      "source": [
        "import pandas as pd\n",
        "import numpy as np\n",
        "import matplotlib.pyplot as plt\n",
        "import scipy as sp\n",
        "import scipy.stats\n",
        "import seaborn as sns\n",
        "\n",
        "import statsmodels.api as sm\n",
        "from sklearn import linear_model\n",
        "from sklearn.metrics import mean_squared_error, r2_score\n",
        "from sklearn.metrics import accuracy_score\n",
        "from sklearn import metrics\n",
        "from sklearn.cluster import KMeans\n",
        "from sklearn.decomposition import PCA\n",
        "from numpy import asarray\n",
        "from sklearn.preprocessing import StandardScaler\n",
        "from google.colab import files\n",
        "\n",
        "from tabulate import tabulate\n",
        "\n",
        "%matplotlib inline"
      ],
      "execution_count": null,
      "outputs": []
    },
    {
      "cell_type": "code",
      "metadata": {
        "id": "SqSzfFTK-zMS",
        "colab": {
          "base_uri": "https://localhost:8080/",
          "height": 17
        },
        "outputId": "30c43bac-6c71-4fc5-b37d-35faefaeba60"
      },
      "source": [
        "from IPython.display import display, HTML\n",
        "\n",
        "CSS = \"\"\"\n",
        ".output {\n",
        "  flex-direction: row;\n",
        "}\n",
        "\"\"\"\n",
        "HTML ('<style>{}</style>'.format(CSS))"
      ],
      "execution_count": null,
      "outputs": [
        {
          "output_type": "execute_result",
          "data": {
            "text/html": [
              "<style>\n",
              ".output {\n",
              "  flex-direction: row;\n",
              "}\n",
              "</style>"
            ],
            "text/plain": [
              "<IPython.core.display.HTML object>"
            ]
          },
          "metadata": {
            "tags": []
          },
          "execution_count": 42
        }
      ]
    },
    {
      "cell_type": "markdown",
      "metadata": {
        "id": "rBBNb_vnald-"
      },
      "source": [
        "# Loading the data\n"
      ]
    },
    {
      "cell_type": "code",
      "metadata": {
        "id": "vtInk6HOdWwZ"
      },
      "source": [
        "data = pd.read_excel(\"V2_Base_BAL.xlsm\", sheet_name=\"v2BaseRH\", header=1)"
      ],
      "execution_count": null,
      "outputs": []
    },
    {
      "cell_type": "code",
      "metadata": {
        "colab": {
          "base_uri": "https://localhost:8080/",
          "height": 360
        },
        "id": "bVcpDda8df65",
        "outputId": "591910de-4879-4e22-b7fe-48c308eb0660"
      },
      "source": [
        "data.head()"
      ],
      "execution_count": null,
      "outputs": [
        {
          "output_type": "execute_result",
          "data": {
            "text/html": [
              "<div>\n",
              "<style scoped>\n",
              "    .dataframe tbody tr th:only-of-type {\n",
              "        vertical-align: middle;\n",
              "    }\n",
              "\n",
              "    .dataframe tbody tr th {\n",
              "        vertical-align: top;\n",
              "    }\n",
              "\n",
              "    .dataframe thead th {\n",
              "        text-align: right;\n",
              "    }\n",
              "</style>\n",
              "<table border=\"1\" class=\"dataframe\">\n",
              "  <thead>\n",
              "    <tr style=\"text-align: right;\">\n",
              "      <th></th>\n",
              "      <th>ID</th>\n",
              "      <th>Empresa</th>\n",
              "      <th>Área</th>\n",
              "      <th>Nivel Organizacional</th>\n",
              "      <th>Fecha de Nacimiento</th>\n",
              "      <th>Vulnerable</th>\n",
              "      <th>Requerimiento Organizacional</th>\n",
              "      <th>Sexo</th>\n",
              "      <th>Transporte</th>\n",
              "      <th>Hijos de 0 a 17 años</th>\n",
              "      <th>Vacunación</th>\n",
              "      <th>Edad</th>\n",
              "      <th>Embarazo</th>\n",
              "      <th>Piso</th>\n",
              "      <th>Tipo de estación</th>\n",
              "      <th>Lap top</th>\n",
              "      <th>Estatus</th>\n",
              "      <th>Criterio de reincorporación</th>\n",
              "      <th>Score</th>\n",
              "    </tr>\n",
              "  </thead>\n",
              "  <tbody>\n",
              "    <tr>\n",
              "      <th>0</th>\n",
              "      <td>1</td>\n",
              "      <td>AOSA</td>\n",
              "      <td>COMEDORES</td>\n",
              "      <td>Secretaria</td>\n",
              "      <td>1964-11-02 00:00:00</td>\n",
              "      <td>0</td>\n",
              "      <td>Presencial</td>\n",
              "      <td>F</td>\n",
              "      <td>Si</td>\n",
              "      <td>0</td>\n",
              "      <td>Si</td>\n",
              "      <td>56.0</td>\n",
              "      <td>No</td>\n",
              "      <td>PB</td>\n",
              "      <td>Abierta</td>\n",
              "      <td>Si</td>\n",
              "      <td>En Oficina</td>\n",
              "      <td>3</td>\n",
              "      <td>3</td>\n",
              "    </tr>\n",
              "    <tr>\n",
              "      <th>1</th>\n",
              "      <td>2</td>\n",
              "      <td>AOSA</td>\n",
              "      <td>ASESORES</td>\n",
              "      <td>Secretaria</td>\n",
              "      <td>1975-06-05 00:00:00</td>\n",
              "      <td>0</td>\n",
              "      <td>Presencial</td>\n",
              "      <td>F</td>\n",
              "      <td>Si</td>\n",
              "      <td>0</td>\n",
              "      <td>No</td>\n",
              "      <td>46.0</td>\n",
              "      <td>No</td>\n",
              "      <td>PB</td>\n",
              "      <td>Abierta</td>\n",
              "      <td>Si</td>\n",
              "      <td>En Oficina</td>\n",
              "      <td>3</td>\n",
              "      <td>3</td>\n",
              "    </tr>\n",
              "    <tr>\n",
              "      <th>2</th>\n",
              "      <td>3</td>\n",
              "      <td>AOSA</td>\n",
              "      <td>CUMPLIMIENTO CORPORATIVO</td>\n",
              "      <td>Secretaria</td>\n",
              "      <td>1971-09-29 00:00:00</td>\n",
              "      <td>0</td>\n",
              "      <td>Presencial</td>\n",
              "      <td>F</td>\n",
              "      <td>Si</td>\n",
              "      <td>0</td>\n",
              "      <td>No</td>\n",
              "      <td>49.0</td>\n",
              "      <td>No</td>\n",
              "      <td>PB</td>\n",
              "      <td>Abierta</td>\n",
              "      <td>Si</td>\n",
              "      <td>En Oficina</td>\n",
              "      <td>3</td>\n",
              "      <td>3</td>\n",
              "    </tr>\n",
              "    <tr>\n",
              "      <th>3</th>\n",
              "      <td>4</td>\n",
              "      <td>MOLIERE</td>\n",
              "      <td>ADMINISTRADORA MOLIERE</td>\n",
              "      <td>No Profesionista</td>\n",
              "      <td>NaN</td>\n",
              "      <td>0</td>\n",
              "      <td>Presencial</td>\n",
              "      <td>M</td>\n",
              "      <td>Si</td>\n",
              "      <td>0</td>\n",
              "      <td>No</td>\n",
              "      <td>NaN</td>\n",
              "      <td>No</td>\n",
              "      <td>PB</td>\n",
              "      <td>Abierta</td>\n",
              "      <td>NaN</td>\n",
              "      <td>En Oficina</td>\n",
              "      <td>2</td>\n",
              "      <td>2</td>\n",
              "    </tr>\n",
              "    <tr>\n",
              "      <th>4</th>\n",
              "      <td>5</td>\n",
              "      <td>AOSA</td>\n",
              "      <td>HOLDINGS</td>\n",
              "      <td>Secretaria</td>\n",
              "      <td>1973-09-11 00:00:00</td>\n",
              "      <td>0</td>\n",
              "      <td>Presencial</td>\n",
              "      <td>F</td>\n",
              "      <td>Si</td>\n",
              "      <td>1</td>\n",
              "      <td>No</td>\n",
              "      <td>47.0</td>\n",
              "      <td>No</td>\n",
              "      <td>Piso 5</td>\n",
              "      <td>Abierta</td>\n",
              "      <td>Si</td>\n",
              "      <td>En Oficina</td>\n",
              "      <td>3</td>\n",
              "      <td>3</td>\n",
              "    </tr>\n",
              "  </tbody>\n",
              "</table>\n",
              "</div>"
            ],
            "text/plain": [
              "   ID  Empresa  ... Criterio de reincorporación Score\n",
              "0   1     AOSA  ...                           3     3\n",
              "1   2     AOSA  ...                           3     3\n",
              "2   3     AOSA  ...                           3     3\n",
              "3   4  MOLIERE  ...                           2     2\n",
              "4   5     AOSA  ...                           3     3\n",
              "\n",
              "[5 rows x 19 columns]"
            ]
          },
          "metadata": {
            "tags": []
          },
          "execution_count": 85
        }
      ]
    },
    {
      "cell_type": "markdown",
      "metadata": {
        "id": "1e760qG_ekTm"
      },
      "source": [
        "# First look at the data"
      ]
    },
    {
      "cell_type": "code",
      "metadata": {
        "colab": {
          "base_uri": "https://localhost:8080/"
        },
        "id": "p0DUdjSUeMK7",
        "outputId": "a4a7ccaa-7792-4b6d-e821-e89d748cd3b8"
      },
      "source": [
        "data.columns"
      ],
      "execution_count": null,
      "outputs": [
        {
          "output_type": "execute_result",
          "data": {
            "text/plain": [
              "Index(['ID', 'Empresa', 'Área', 'Nivel Organizacional', 'Fecha de Nacimiento',\n",
              "       'Vulnerable', 'Requerimiento Organizacional', 'Sexo', 'Transporte',\n",
              "       'Hijos de 0 a 17 años', 'Vacunación', 'Edad', 'Embarazo ', 'Piso',\n",
              "       'Tipo de estación', 'Lap top', 'Estatus', 'Criterio de reincorporación',\n",
              "       'Score'],\n",
              "      dtype='object')"
            ]
          },
          "metadata": {
            "tags": []
          },
          "execution_count": 45
        }
      ]
    },
    {
      "cell_type": "code",
      "metadata": {
        "colab": {
          "base_uri": "https://localhost:8080/",
          "height": 297
        },
        "id": "oFYTSliPdlM4",
        "outputId": "1a3df0f0-2eec-48c1-b821-8d2bbf1a8b03"
      },
      "source": [
        "data.describe()"
      ],
      "execution_count": null,
      "outputs": [
        {
          "output_type": "execute_result",
          "data": {
            "text/html": [
              "<div>\n",
              "<style scoped>\n",
              "    .dataframe tbody tr th:only-of-type {\n",
              "        vertical-align: middle;\n",
              "    }\n",
              "\n",
              "    .dataframe tbody tr th {\n",
              "        vertical-align: top;\n",
              "    }\n",
              "\n",
              "    .dataframe thead th {\n",
              "        text-align: right;\n",
              "    }\n",
              "</style>\n",
              "<table border=\"1\" class=\"dataframe\">\n",
              "  <thead>\n",
              "    <tr style=\"text-align: right;\">\n",
              "      <th></th>\n",
              "      <th>ID</th>\n",
              "      <th>Vulnerable</th>\n",
              "      <th>Hijos de 0 a 17 años</th>\n",
              "      <th>Edad</th>\n",
              "    </tr>\n",
              "  </thead>\n",
              "  <tbody>\n",
              "    <tr>\n",
              "      <th>count</th>\n",
              "      <td>354.000000</td>\n",
              "      <td>354.000000</td>\n",
              "      <td>354.000000</td>\n",
              "      <td>326.000000</td>\n",
              "    </tr>\n",
              "    <tr>\n",
              "      <th>mean</th>\n",
              "      <td>182.997175</td>\n",
              "      <td>0.135593</td>\n",
              "      <td>0.429379</td>\n",
              "      <td>42.889571</td>\n",
              "    </tr>\n",
              "    <tr>\n",
              "      <th>std</th>\n",
              "      <td>106.950374</td>\n",
              "      <td>0.342841</td>\n",
              "      <td>0.746540</td>\n",
              "      <td>12.631587</td>\n",
              "    </tr>\n",
              "    <tr>\n",
              "      <th>min</th>\n",
              "      <td>1.000000</td>\n",
              "      <td>0.000000</td>\n",
              "      <td>0.000000</td>\n",
              "      <td>22.000000</td>\n",
              "    </tr>\n",
              "    <tr>\n",
              "      <th>25%</th>\n",
              "      <td>90.250000</td>\n",
              "      <td>0.000000</td>\n",
              "      <td>0.000000</td>\n",
              "      <td>32.250000</td>\n",
              "    </tr>\n",
              "    <tr>\n",
              "      <th>50%</th>\n",
              "      <td>181.500000</td>\n",
              "      <td>0.000000</td>\n",
              "      <td>0.000000</td>\n",
              "      <td>41.000000</td>\n",
              "    </tr>\n",
              "    <tr>\n",
              "      <th>75%</th>\n",
              "      <td>271.750000</td>\n",
              "      <td>0.000000</td>\n",
              "      <td>1.000000</td>\n",
              "      <td>51.750000</td>\n",
              "    </tr>\n",
              "    <tr>\n",
              "      <th>max</th>\n",
              "      <td>368.000000</td>\n",
              "      <td>1.000000</td>\n",
              "      <td>4.000000</td>\n",
              "      <td>92.000000</td>\n",
              "    </tr>\n",
              "  </tbody>\n",
              "</table>\n",
              "</div>"
            ],
            "text/plain": [
              "               ID  Vulnerable  Hijos de 0 a 17 años        Edad\n",
              "count  354.000000  354.000000            354.000000  326.000000\n",
              "mean   182.997175    0.135593              0.429379   42.889571\n",
              "std    106.950374    0.342841              0.746540   12.631587\n",
              "min      1.000000    0.000000              0.000000   22.000000\n",
              "25%     90.250000    0.000000              0.000000   32.250000\n",
              "50%    181.500000    0.000000              0.000000   41.000000\n",
              "75%    271.750000    0.000000              1.000000   51.750000\n",
              "max    368.000000    1.000000              4.000000   92.000000"
            ]
          },
          "metadata": {
            "tags": []
          },
          "execution_count": 46
        }
      ]
    },
    {
      "cell_type": "code",
      "metadata": {
        "colab": {
          "base_uri": "https://localhost:8080/"
        },
        "id": "ozqgoueqeBIC",
        "outputId": "a50c8663-5ead-4eb0-9a04-e21440588889"
      },
      "source": [
        "data['Empresa'].value_counts()"
      ],
      "execution_count": null,
      "outputs": [
        {
          "output_type": "execute_result",
          "data": {
            "text/plain": [
              "AOSA         154\n",
              "TABAL        110\n",
              "PETROBAL      33\n",
              "GRUPO BAL     31\n",
              "MOLIERE       26\n",
              "Name: Empresa, dtype: int64"
            ]
          },
          "metadata": {
            "tags": []
          },
          "execution_count": 47
        }
      ]
    },
    {
      "cell_type": "code",
      "metadata": {
        "colab": {
          "base_uri": "https://localhost:8080/"
        },
        "id": "2M4giI49eRJE",
        "outputId": "ea0f0a96-9fb8-4231-ba89-bbfb1dbdcc46"
      },
      "source": [
        "data['Piso'].value_counts()"
      ],
      "execution_count": null,
      "outputs": [
        {
          "output_type": "execute_result",
          "data": {
            "text/plain": [
              "Piso 6      92\n",
              "Piso 5      84\n",
              "PB          77\n",
              "Piso 7      74\n",
              "Sótano 2    17\n",
              "Piso 8      10\n",
              "Name: Piso, dtype: int64"
            ]
          },
          "metadata": {
            "tags": []
          },
          "execution_count": 48
        }
      ]
    },
    {
      "cell_type": "code",
      "metadata": {
        "colab": {
          "base_uri": "https://localhost:8080/",
          "height": 265
        },
        "id": "wp9S0xn0kQjS",
        "outputId": "1047f4a6-8133-449c-92d7-9e6107595790"
      },
      "source": [
        "plt.hist(data[\"Edad\"], facecolor='blue', alpha=0.5)\n",
        "plt.show()"
      ],
      "execution_count": null,
      "outputs": [
        {
          "output_type": "display_data",
          "data": {
            "image/png": "[encoded data removed]",
            "text/plain": [
              "<Figure size 432x288 with 1 Axes>"
            ]
          },
          "metadata": {
            "tags": [],
            "needs_background": "light"
          }
        }
      ]
    },
    {
      "cell_type": "code",
      "metadata": {
        "colab": {
          "base_uri": "https://localhost:8080/"
        },
        "id": "HVJ9Q0XqeWBl",
        "outputId": "4b85f2a3-1966-41f3-f624-1350e4bab684"
      },
      "source": [
        "data.groupby(by='Empresa').Edad.mean()"
      ],
      "execution_count": null,
      "outputs": [
        {
          "output_type": "execute_result",
          "data": {
            "text/plain": [
              "Empresa\n",
              "AOSA         40.064935\n",
              "GRUPO BAL    37.375000\n",
              "MOLIERE      43.800000\n",
              "PETROBAL     43.787879\n",
              "TABAL        46.915094\n",
              "Name: Edad, dtype: float64"
            ]
          },
          "metadata": {
            "tags": []
          },
          "execution_count": 12
        }
      ]
    },
    {
      "cell_type": "code",
      "metadata": {
        "colab": {
          "base_uri": "https://localhost:8080/"
        },
        "id": "LfTupjvTataJ",
        "outputId": "45918078-33f9-4e86-c4fe-bf2fcd1dbd69"
      },
      "source": [
        "data[\"Vacunación\"].value_counts()"
      ],
      "execution_count": null,
      "outputs": [
        {
          "output_type": "execute_result",
          "data": {
            "text/plain": [
              "No    257\n",
              "Si     96\n",
              "SI      1\n",
              "Name: Vacunación, dtype: int64"
            ]
          },
          "metadata": {
            "tags": []
          },
          "execution_count": 49
        }
      ]
    },
    {
      "cell_type": "markdown",
      "metadata": {
        "id": "NzAfqqUTevLt"
      },
      "source": [
        "# Reemplazo de valores repetidos y primeras correcciones en los hallazgos"
      ]
    },
    {
      "cell_type": "code",
      "metadata": {
        "id": "8Kx43Nwway43"
      },
      "source": [
        "data['Vacunación'].replace('SI','Si',inplace=True)"
      ],
      "execution_count": null,
      "outputs": []
    },
    {
      "cell_type": "code",
      "metadata": {
        "colab": {
          "base_uri": "https://localhost:8080/"
        },
        "id": "aaJtXkvXbHfM",
        "outputId": "228599db-8abd-4daa-c0ec-90cf0c11a03c"
      },
      "source": [
        "data[\"Vacunación\"].value_counts()"
      ],
      "execution_count": null,
      "outputs": [
        {
          "output_type": "execute_result",
          "data": {
            "text/plain": [
              "No    257\n",
              "Si     97\n",
              "Name: Vacunación, dtype: int64"
            ]
          },
          "metadata": {
            "tags": []
          },
          "execution_count": 51
        }
      ]
    },
    {
      "cell_type": "code",
      "metadata": {
        "id": "o3YO7oeFevvP"
      },
      "source": [
        "# data[\"Edad\"] = data['Edad'].fillna(np.mean(data[\"Edad\"]))"
      ],
      "execution_count": null,
      "outputs": []
    },
    {
      "cell_type": "code",
      "metadata": {
        "colab": {
          "base_uri": "https://localhost:8080/"
        },
        "id": "lwqMhyf_e4aQ",
        "outputId": "2c340cfc-dc4e-4abf-a15a-4f5ed11d1bae"
      },
      "source": [
        "np.mean(data[\"Edad\"])"
      ],
      "execution_count": null,
      "outputs": [
        {
          "output_type": "execute_result",
          "data": {
            "text/plain": [
              "42.88957055214724"
            ]
          },
          "metadata": {
            "tags": []
          },
          "execution_count": 52
        }
      ]
    },
    {
      "cell_type": "markdown",
      "metadata": {
        "id": "UXoYB0YXd2Rd"
      },
      "source": [
        "# Segmentando los factores clave"
      ]
    },
    {
      "cell_type": "code",
      "metadata": {
        "id": "rKsabER5QE_T"
      },
      "source": [
        "data_targ = data.filter([\n",
        "       'Vulnerable', 'Requerimiento Organizacional', 'Transporte',\n",
        "       'Hijos de 0 a 17 años', 'Vacunación', 'Edad'])"
      ],
      "execution_count": null,
      "outputs": []
    },
    {
      "cell_type": "code",
      "metadata": {
        "colab": {
          "base_uri": "https://localhost:8080/",
          "height": 419
        },
        "id": "xGZCg5iPYoy4",
        "outputId": "a62fbada-eb47-457f-f121-e68c9322c4da"
      },
      "source": [
        "data_targ[\"Requerimiento_Organizacional\"] =data_targ[\"Requerimiento Organizacional\"]\n",
        "data_targ = data_targ.drop([\"Requerimiento Organizacional\"], axis=1)\n",
        "\n",
        "data_targ[\"Hijos_17años\"] =data_targ[\"Hijos de 0 a 17 años\"]\n",
        "data_targ = data_targ.drop([\"Hijos de 0 a 17 años\"], axis=1)\n",
        "\n",
        "data_targ"
      ],
      "execution_count": null,
      "outputs": [
        {
          "output_type": "execute_result",
          "data": {
            "text/html": [
              "<div>\n",
              "<style scoped>\n",
              "    .dataframe tbody tr th:only-of-type {\n",
              "        vertical-align: middle;\n",
              "    }\n",
              "\n",
              "    .dataframe tbody tr th {\n",
              "        vertical-align: top;\n",
              "    }\n",
              "\n",
              "    .dataframe thead th {\n",
              "        text-align: right;\n",
              "    }\n",
              "</style>\n",
              "<table border=\"1\" class=\"dataframe\">\n",
              "  <thead>\n",
              "    <tr style=\"text-align: right;\">\n",
              "      <th></th>\n",
              "      <th>Vulnerable</th>\n",
              "      <th>Transporte</th>\n",
              "      <th>Vacunación</th>\n",
              "      <th>Edad</th>\n",
              "      <th>Requerimiento_Organizacional</th>\n",
              "      <th>Hijos_17años</th>\n",
              "    </tr>\n",
              "  </thead>\n",
              "  <tbody>\n",
              "    <tr>\n",
              "      <th>0</th>\n",
              "      <td>0</td>\n",
              "      <td>Si</td>\n",
              "      <td>Si</td>\n",
              "      <td>56.0</td>\n",
              "      <td>Presencial</td>\n",
              "      <td>0</td>\n",
              "    </tr>\n",
              "    <tr>\n",
              "      <th>1</th>\n",
              "      <td>0</td>\n",
              "      <td>Si</td>\n",
              "      <td>No</td>\n",
              "      <td>46.0</td>\n",
              "      <td>Presencial</td>\n",
              "      <td>0</td>\n",
              "    </tr>\n",
              "    <tr>\n",
              "      <th>2</th>\n",
              "      <td>0</td>\n",
              "      <td>Si</td>\n",
              "      <td>No</td>\n",
              "      <td>49.0</td>\n",
              "      <td>Presencial</td>\n",
              "      <td>0</td>\n",
              "    </tr>\n",
              "    <tr>\n",
              "      <th>3</th>\n",
              "      <td>0</td>\n",
              "      <td>Si</td>\n",
              "      <td>No</td>\n",
              "      <td>NaN</td>\n",
              "      <td>Presencial</td>\n",
              "      <td>0</td>\n",
              "    </tr>\n",
              "    <tr>\n",
              "      <th>4</th>\n",
              "      <td>0</td>\n",
              "      <td>Si</td>\n",
              "      <td>No</td>\n",
              "      <td>47.0</td>\n",
              "      <td>Presencial</td>\n",
              "      <td>1</td>\n",
              "    </tr>\n",
              "    <tr>\n",
              "      <th>...</th>\n",
              "      <td>...</td>\n",
              "      <td>...</td>\n",
              "      <td>...</td>\n",
              "      <td>...</td>\n",
              "      <td>...</td>\n",
              "      <td>...</td>\n",
              "    </tr>\n",
              "    <tr>\n",
              "      <th>349</th>\n",
              "      <td>0</td>\n",
              "      <td>Si</td>\n",
              "      <td>No</td>\n",
              "      <td>NaN</td>\n",
              "      <td>Remoto</td>\n",
              "      <td>0</td>\n",
              "    </tr>\n",
              "    <tr>\n",
              "      <th>350</th>\n",
              "      <td>1</td>\n",
              "      <td>Si</td>\n",
              "      <td>No</td>\n",
              "      <td>NaN</td>\n",
              "      <td>Remoto</td>\n",
              "      <td>0</td>\n",
              "    </tr>\n",
              "    <tr>\n",
              "      <th>351</th>\n",
              "      <td>1</td>\n",
              "      <td>Si</td>\n",
              "      <td>No</td>\n",
              "      <td>NaN</td>\n",
              "      <td>Remoto</td>\n",
              "      <td>0</td>\n",
              "    </tr>\n",
              "    <tr>\n",
              "      <th>352</th>\n",
              "      <td>1</td>\n",
              "      <td>Si</td>\n",
              "      <td>No</td>\n",
              "      <td>NaN</td>\n",
              "      <td>Remoto</td>\n",
              "      <td>0</td>\n",
              "    </tr>\n",
              "    <tr>\n",
              "      <th>353</th>\n",
              "      <td>1</td>\n",
              "      <td>Si</td>\n",
              "      <td>No</td>\n",
              "      <td>NaN</td>\n",
              "      <td>Remoto</td>\n",
              "      <td>0</td>\n",
              "    </tr>\n",
              "  </tbody>\n",
              "</table>\n",
              "<p>354 rows × 6 columns</p>\n",
              "</div>"
            ],
            "text/plain": [
              "     Vulnerable Transporte  ... Requerimiento_Organizacional  Hijos_17años\n",
              "0             0         Si  ...                   Presencial             0\n",
              "1             0         Si  ...                   Presencial             0\n",
              "2             0         Si  ...                   Presencial             0\n",
              "3             0         Si  ...                   Presencial             0\n",
              "4             0         Si  ...                   Presencial             1\n",
              "..          ...        ...  ...                          ...           ...\n",
              "349           0         Si  ...                       Remoto             0\n",
              "350           1         Si  ...                       Remoto             0\n",
              "351           1         Si  ...                       Remoto             0\n",
              "352           1         Si  ...                       Remoto             0\n",
              "353           1         Si  ...                       Remoto             0\n",
              "\n",
              "[354 rows x 6 columns]"
            ]
          },
          "metadata": {
            "tags": []
          },
          "execution_count": 103
        }
      ]
    },
    {
      "cell_type": "code",
      "metadata": {
        "colab": {
          "base_uri": "https://localhost:8080/",
          "height": 142
        },
        "id": "mvoy7VbeQao8",
        "outputId": "3a862ceb-d972-413f-aea3-788bd6d1b2a4"
      },
      "source": [
        "data_targ.corr(method='kendall')"
      ],
      "execution_count": null,
      "outputs": [
        {
          "output_type": "execute_result",
          "data": {
            "text/html": [
              "<div>\n",
              "<style scoped>\n",
              "    .dataframe tbody tr th:only-of-type {\n",
              "        vertical-align: middle;\n",
              "    }\n",
              "\n",
              "    .dataframe tbody tr th {\n",
              "        vertical-align: top;\n",
              "    }\n",
              "\n",
              "    .dataframe thead th {\n",
              "        text-align: right;\n",
              "    }\n",
              "</style>\n",
              "<table border=\"1\" class=\"dataframe\">\n",
              "  <thead>\n",
              "    <tr style=\"text-align: right;\">\n",
              "      <th></th>\n",
              "      <th>Vulnerable</th>\n",
              "      <th>Hijos de 0 a 17 años</th>\n",
              "      <th>Edad</th>\n",
              "    </tr>\n",
              "  </thead>\n",
              "  <tbody>\n",
              "    <tr>\n",
              "      <th>Vulnerable</th>\n",
              "      <td>1.000000</td>\n",
              "      <td>-0.137273</td>\n",
              "      <td>0.382245</td>\n",
              "    </tr>\n",
              "    <tr>\n",
              "      <th>Hijos de 0 a 17 años</th>\n",
              "      <td>-0.137273</td>\n",
              "      <td>1.000000</td>\n",
              "      <td>0.120176</td>\n",
              "    </tr>\n",
              "    <tr>\n",
              "      <th>Edad</th>\n",
              "      <td>0.382245</td>\n",
              "      <td>0.120176</td>\n",
              "      <td>1.000000</td>\n",
              "    </tr>\n",
              "  </tbody>\n",
              "</table>\n",
              "</div>"
            ],
            "text/plain": [
              "                      Vulnerable  Hijos de 0 a 17 años      Edad\n",
              "Vulnerable              1.000000             -0.137273  0.382245\n",
              "Hijos de 0 a 17 años   -0.137273              1.000000  0.120176\n",
              "Edad                    0.382245              0.120176  1.000000"
            ]
          },
          "metadata": {
            "tags": []
          },
          "execution_count": 175
        }
      ]
    },
    {
      "cell_type": "code",
      "metadata": {
        "colab": {
          "base_uri": "https://localhost:8080/",
          "height": 295
        },
        "id": "tN82viJ2RRUF",
        "outputId": "ae68da61-c65d-4490-e768-23e435693425"
      },
      "source": [
        "corr = data_targ.corr(method='kendall')\n",
        "sns.heatmap(corr, xticklabels=corr.columns, yticklabels=corr.columns)"
      ],
      "execution_count": null,
      "outputs": [
        {
          "output_type": "execute_result",
          "data": {
            "text/plain": [
              "<matplotlib.axes._subplots.AxesSubplot at 0x7f959b7d64d0>"
            ]
          },
          "metadata": {
            "tags": []
          },
          "execution_count": 310
        },
        {
          "output_type": "display_data",
          "data": {
            "image/png": "[encoded data removed]",
            "text/plain": [
              "<Figure size 432x288 with 2 Axes>"
            ]
          },
          "metadata": {
            "tags": [],
            "needs_background": "light"
          }
        }
      ]
    },
    {
      "cell_type": "code",
      "metadata": {
        "id": "0uwkefWdSpx-"
      },
      "source": [
        "# sns.pairplot(data_targ)"
      ],
      "execution_count": null,
      "outputs": []
    },
    {
      "cell_type": "markdown",
      "metadata": {
        "id": "hH0aOeTjeSYp"
      },
      "source": [
        "## Etiquetando los strings"
      ]
    },
    {
      "cell_type": "code",
      "metadata": {
        "colab": {
          "base_uri": "https://localhost:8080/",
          "height": 419
        },
        "id": "Sh90E8PrUrsB",
        "outputId": "cdd73652-fc39-4e82-e99a-deed751beacb"
      },
      "source": [
        "data_targ['Requerimiento_Organizacional'] = pd.factorize(data_targ.Requerimiento_Organizacional)[0]\n",
        "data_targ['Transporte'] = pd.factorize(data_targ.Transporte)[0]\n",
        "data_targ['Vacunación'] = pd.factorize(data_targ.Vacunación)[0]\n",
        "\n",
        "data_targ"
      ],
      "execution_count": null,
      "outputs": [
        {
          "output_type": "execute_result",
          "data": {
            "text/html": [
              "<div>\n",
              "<style scoped>\n",
              "    .dataframe tbody tr th:only-of-type {\n",
              "        vertical-align: middle;\n",
              "    }\n",
              "\n",
              "    .dataframe tbody tr th {\n",
              "        vertical-align: top;\n",
              "    }\n",
              "\n",
              "    .dataframe thead th {\n",
              "        text-align: right;\n",
              "    }\n",
              "</style>\n",
              "<table border=\"1\" class=\"dataframe\">\n",
              "  <thead>\n",
              "    <tr style=\"text-align: right;\">\n",
              "      <th></th>\n",
              "      <th>Vulnerable</th>\n",
              "      <th>Transporte</th>\n",
              "      <th>Vacunación</th>\n",
              "      <th>Edad</th>\n",
              "      <th>Requerimiento_Organizacional</th>\n",
              "      <th>Hijos_17años</th>\n",
              "    </tr>\n",
              "  </thead>\n",
              "  <tbody>\n",
              "    <tr>\n",
              "      <th>0</th>\n",
              "      <td>0</td>\n",
              "      <td>0</td>\n",
              "      <td>0</td>\n",
              "      <td>56.0</td>\n",
              "      <td>0</td>\n",
              "      <td>0</td>\n",
              "    </tr>\n",
              "    <tr>\n",
              "      <th>1</th>\n",
              "      <td>0</td>\n",
              "      <td>0</td>\n",
              "      <td>1</td>\n",
              "      <td>46.0</td>\n",
              "      <td>0</td>\n",
              "      <td>0</td>\n",
              "    </tr>\n",
              "    <tr>\n",
              "      <th>2</th>\n",
              "      <td>0</td>\n",
              "      <td>0</td>\n",
              "      <td>1</td>\n",
              "      <td>49.0</td>\n",
              "      <td>0</td>\n",
              "      <td>0</td>\n",
              "    </tr>\n",
              "    <tr>\n",
              "      <th>3</th>\n",
              "      <td>0</td>\n",
              "      <td>0</td>\n",
              "      <td>1</td>\n",
              "      <td>NaN</td>\n",
              "      <td>0</td>\n",
              "      <td>0</td>\n",
              "    </tr>\n",
              "    <tr>\n",
              "      <th>4</th>\n",
              "      <td>0</td>\n",
              "      <td>0</td>\n",
              "      <td>1</td>\n",
              "      <td>47.0</td>\n",
              "      <td>0</td>\n",
              "      <td>1</td>\n",
              "    </tr>\n",
              "    <tr>\n",
              "      <th>...</th>\n",
              "      <td>...</td>\n",
              "      <td>...</td>\n",
              "      <td>...</td>\n",
              "      <td>...</td>\n",
              "      <td>...</td>\n",
              "      <td>...</td>\n",
              "    </tr>\n",
              "    <tr>\n",
              "      <th>349</th>\n",
              "      <td>0</td>\n",
              "      <td>0</td>\n",
              "      <td>1</td>\n",
              "      <td>NaN</td>\n",
              "      <td>2</td>\n",
              "      <td>0</td>\n",
              "    </tr>\n",
              "    <tr>\n",
              "      <th>350</th>\n",
              "      <td>1</td>\n",
              "      <td>0</td>\n",
              "      <td>1</td>\n",
              "      <td>NaN</td>\n",
              "      <td>2</td>\n",
              "      <td>0</td>\n",
              "    </tr>\n",
              "    <tr>\n",
              "      <th>351</th>\n",
              "      <td>1</td>\n",
              "      <td>0</td>\n",
              "      <td>1</td>\n",
              "      <td>NaN</td>\n",
              "      <td>2</td>\n",
              "      <td>0</td>\n",
              "    </tr>\n",
              "    <tr>\n",
              "      <th>352</th>\n",
              "      <td>1</td>\n",
              "      <td>0</td>\n",
              "      <td>1</td>\n",
              "      <td>NaN</td>\n",
              "      <td>2</td>\n",
              "      <td>0</td>\n",
              "    </tr>\n",
              "    <tr>\n",
              "      <th>353</th>\n",
              "      <td>1</td>\n",
              "      <td>0</td>\n",
              "      <td>1</td>\n",
              "      <td>NaN</td>\n",
              "      <td>2</td>\n",
              "      <td>0</td>\n",
              "    </tr>\n",
              "  </tbody>\n",
              "</table>\n",
              "<p>354 rows × 6 columns</p>\n",
              "</div>"
            ],
            "text/plain": [
              "     Vulnerable  Transporte  ...  Requerimiento_Organizacional  Hijos_17años\n",
              "0             0           0  ...                             0             0\n",
              "1             0           0  ...                             0             0\n",
              "2             0           0  ...                             0             0\n",
              "3             0           0  ...                             0             0\n",
              "4             0           0  ...                             0             1\n",
              "..          ...         ...  ...                           ...           ...\n",
              "349           0           0  ...                             2             0\n",
              "350           1           0  ...                             2             0\n",
              "351           1           0  ...                             2             0\n",
              "352           1           0  ...                             2             0\n",
              "353           1           0  ...                             2             0\n",
              "\n",
              "[354 rows x 6 columns]"
            ]
          },
          "metadata": {
            "tags": []
          },
          "execution_count": 104
        }
      ]
    },
    {
      "cell_type": "code",
      "metadata": {
        "colab": {
          "base_uri": "https://localhost:8080/"
        },
        "id": "iyLsbu1RZ_8V",
        "outputId": "153d4d52-5064-45ef-bee3-c6c14cfae052"
      },
      "source": [
        "data_targ[\"Requerimiento_Organizacional\"].value_counts()"
      ],
      "execution_count": null,
      "outputs": [
        {
          "output_type": "execute_result",
          "data": {
            "text/plain": [
              "2    169\n",
              "1    133\n",
              "0     52\n",
              "Name: Requerimiento_Organizacional, dtype: int64"
            ]
          },
          "metadata": {
            "tags": []
          },
          "execution_count": 312
        }
      ]
    },
    {
      "cell_type": "code",
      "metadata": {
        "colab": {
          "base_uri": "https://localhost:8080/"
        },
        "id": "vux504e4Z_4H",
        "outputId": "20201fb6-5cf8-4cb4-e6eb-fdc60c22304e"
      },
      "source": [
        "data[\"Requerimiento Organizacional\"].value_counts()"
      ],
      "execution_count": null,
      "outputs": [
        {
          "output_type": "execute_result",
          "data": {
            "text/plain": [
              "Remoto        169\n",
              "Flotante      133\n",
              "Presencial     52\n",
              "Name: Requerimiento Organizacional, dtype: int64"
            ]
          },
          "metadata": {
            "tags": []
          },
          "execution_count": 313
        }
      ]
    },
    {
      "cell_type": "code",
      "metadata": {
        "colab": {
          "base_uri": "https://localhost:8080/"
        },
        "id": "yjbCujp2XBKA",
        "outputId": "3dd57edd-18db-47a8-9c92-63b8768a0bbf"
      },
      "source": [
        "data_targ[\"Transporte\"].value_counts()"
      ],
      "execution_count": null,
      "outputs": [
        {
          "output_type": "execute_result",
          "data": {
            "text/plain": [
              "0    296\n",
              "1     58\n",
              "Name: Transporte, dtype: int64"
            ]
          },
          "metadata": {
            "tags": []
          },
          "execution_count": 314
        }
      ]
    },
    {
      "cell_type": "code",
      "metadata": {
        "colab": {
          "base_uri": "https://localhost:8080/"
        },
        "id": "rIG_qnr_XFaW",
        "outputId": "52b9cfd4-c78f-4b67-b7b0-4b747e7dde3a"
      },
      "source": [
        "data[\"Transporte\"].value_counts()"
      ],
      "execution_count": null,
      "outputs": [
        {
          "output_type": "execute_result",
          "data": {
            "text/plain": [
              "Si    296\n",
              "No     58\n",
              "Name: Transporte, dtype: int64"
            ]
          },
          "metadata": {
            "tags": []
          },
          "execution_count": 315
        }
      ]
    },
    {
      "cell_type": "code",
      "metadata": {
        "colab": {
          "base_uri": "https://localhost:8080/"
        },
        "id": "9wgXqBBBZ9zZ",
        "outputId": "fa664dc1-00e7-461b-c660-22beb13f9092"
      },
      "source": [
        "data_targ[\"Vacunación\"].value_counts()"
      ],
      "execution_count": null,
      "outputs": [
        {
          "output_type": "execute_result",
          "data": {
            "text/plain": [
              "1    257\n",
              "0     97\n",
              "Name: Vacunación, dtype: int64"
            ]
          },
          "metadata": {
            "tags": []
          },
          "execution_count": 316
        }
      ]
    },
    {
      "cell_type": "code",
      "metadata": {
        "colab": {
          "base_uri": "https://localhost:8080/"
        },
        "id": "klFueormaMib",
        "outputId": "f2b66f90-d6a7-4b3f-f0ee-9a4fa65abf2c"
      },
      "source": [
        "data[\"Vacunación\"].value_counts()"
      ],
      "execution_count": null,
      "outputs": [
        {
          "output_type": "execute_result",
          "data": {
            "text/plain": [
              "No    257\n",
              "Si     97\n",
              "Name: Vacunación, dtype: int64"
            ]
          },
          "metadata": {
            "tags": []
          },
          "execution_count": 317
        }
      ]
    },
    {
      "cell_type": "markdown",
      "metadata": {
        "id": "LeQqW4wKeaBS"
      },
      "source": [
        "## Eliminando/Sustituyendo NA's"
      ]
    },
    {
      "cell_type": "code",
      "metadata": {
        "colab": {
          "base_uri": "https://localhost:8080/",
          "height": 419
        },
        "id": "EJetFeUzcn7I",
        "outputId": "113070d7-85ff-483a-89e9-c4f58018afe5"
      },
      "source": [
        "data_targ[\"Edad\"] = data_targ['Edad'].fillna(np.mean(data_targ[\"Edad\"]))\n",
        "data_targ[\"Edad\"] = round(data_targ[\"Edad\"])\n",
        "data_targ"
      ],
      "execution_count": null,
      "outputs": [
        {
          "output_type": "execute_result",
          "data": {
            "text/html": [
              "<div>\n",
              "<style scoped>\n",
              "    .dataframe tbody tr th:only-of-type {\n",
              "        vertical-align: middle;\n",
              "    }\n",
              "\n",
              "    .dataframe tbody tr th {\n",
              "        vertical-align: top;\n",
              "    }\n",
              "\n",
              "    .dataframe thead th {\n",
              "        text-align: right;\n",
              "    }\n",
              "</style>\n",
              "<table border=\"1\" class=\"dataframe\">\n",
              "  <thead>\n",
              "    <tr style=\"text-align: right;\">\n",
              "      <th></th>\n",
              "      <th>Vulnerable</th>\n",
              "      <th>Transporte</th>\n",
              "      <th>Vacunación</th>\n",
              "      <th>Edad</th>\n",
              "      <th>Requerimiento_Organizacional</th>\n",
              "      <th>Hijos_17años</th>\n",
              "    </tr>\n",
              "  </thead>\n",
              "  <tbody>\n",
              "    <tr>\n",
              "      <th>0</th>\n",
              "      <td>0</td>\n",
              "      <td>0</td>\n",
              "      <td>0</td>\n",
              "      <td>56.0</td>\n",
              "      <td>0</td>\n",
              "      <td>0</td>\n",
              "    </tr>\n",
              "    <tr>\n",
              "      <th>1</th>\n",
              "      <td>0</td>\n",
              "      <td>0</td>\n",
              "      <td>1</td>\n",
              "      <td>46.0</td>\n",
              "      <td>0</td>\n",
              "      <td>0</td>\n",
              "    </tr>\n",
              "    <tr>\n",
              "      <th>2</th>\n",
              "      <td>0</td>\n",
              "      <td>0</td>\n",
              "      <td>1</td>\n",
              "      <td>49.0</td>\n",
              "      <td>0</td>\n",
              "      <td>0</td>\n",
              "    </tr>\n",
              "    <tr>\n",
              "      <th>3</th>\n",
              "      <td>0</td>\n",
              "      <td>0</td>\n",
              "      <td>1</td>\n",
              "      <td>43.0</td>\n",
              "      <td>0</td>\n",
              "      <td>0</td>\n",
              "    </tr>\n",
              "    <tr>\n",
              "      <th>4</th>\n",
              "      <td>0</td>\n",
              "      <td>0</td>\n",
              "      <td>1</td>\n",
              "      <td>47.0</td>\n",
              "      <td>0</td>\n",
              "      <td>1</td>\n",
              "    </tr>\n",
              "    <tr>\n",
              "      <th>...</th>\n",
              "      <td>...</td>\n",
              "      <td>...</td>\n",
              "      <td>...</td>\n",
              "      <td>...</td>\n",
              "      <td>...</td>\n",
              "      <td>...</td>\n",
              "    </tr>\n",
              "    <tr>\n",
              "      <th>349</th>\n",
              "      <td>0</td>\n",
              "      <td>0</td>\n",
              "      <td>1</td>\n",
              "      <td>43.0</td>\n",
              "      <td>2</td>\n",
              "      <td>0</td>\n",
              "    </tr>\n",
              "    <tr>\n",
              "      <th>350</th>\n",
              "      <td>1</td>\n",
              "      <td>0</td>\n",
              "      <td>1</td>\n",
              "      <td>43.0</td>\n",
              "      <td>2</td>\n",
              "      <td>0</td>\n",
              "    </tr>\n",
              "    <tr>\n",
              "      <th>351</th>\n",
              "      <td>1</td>\n",
              "      <td>0</td>\n",
              "      <td>1</td>\n",
              "      <td>43.0</td>\n",
              "      <td>2</td>\n",
              "      <td>0</td>\n",
              "    </tr>\n",
              "    <tr>\n",
              "      <th>352</th>\n",
              "      <td>1</td>\n",
              "      <td>0</td>\n",
              "      <td>1</td>\n",
              "      <td>43.0</td>\n",
              "      <td>2</td>\n",
              "      <td>0</td>\n",
              "    </tr>\n",
              "    <tr>\n",
              "      <th>353</th>\n",
              "      <td>1</td>\n",
              "      <td>0</td>\n",
              "      <td>1</td>\n",
              "      <td>43.0</td>\n",
              "      <td>2</td>\n",
              "      <td>0</td>\n",
              "    </tr>\n",
              "  </tbody>\n",
              "</table>\n",
              "<p>354 rows × 6 columns</p>\n",
              "</div>"
            ],
            "text/plain": [
              "     Vulnerable  Transporte  ...  Requerimiento_Organizacional  Hijos_17años\n",
              "0             0           0  ...                             0             0\n",
              "1             0           0  ...                             0             0\n",
              "2             0           0  ...                             0             0\n",
              "3             0           0  ...                             0             0\n",
              "4             0           0  ...                             0             1\n",
              "..          ...         ...  ...                           ...           ...\n",
              "349           0           0  ...                             2             0\n",
              "350           1           0  ...                             2             0\n",
              "351           1           0  ...                             2             0\n",
              "352           1           0  ...                             2             0\n",
              "353           1           0  ...                             2             0\n",
              "\n",
              "[354 rows x 6 columns]"
            ]
          },
          "metadata": {
            "tags": []
          },
          "execution_count": 105
        }
      ]
    },
    {
      "cell_type": "markdown",
      "metadata": {
        "id": "e3bUsZZQiOfy"
      },
      "source": [
        "# Definiendo los factores de riesgo"
      ]
    },
    {
      "cell_type": "code",
      "metadata": {
        "colab": {
          "base_uri": "https://localhost:8080/",
          "height": 204
        },
        "id": "6ncIk3PZEue1",
        "outputId": "583ea714-958c-41de-dcaf-a456d1a313cf"
      },
      "source": [
        "Risk1 = data_targ['Vulnerable'].apply(lambda Vulnerable: 1/6 if Vulnerable == 1 else 0)\n",
        "Risk2 = data_targ['Requerimiento_Organizacional'].apply(lambda Requerimiento_Organizacional: 1/6 if Requerimiento_Organizacional == 2 else 0)\n",
        "Risk3 = data_targ['Hijos_17años'].apply(lambda Hijos_17años: 1/6 if Hijos_17años > 0 else 0)\n",
        "Risk4 = data_targ['Vacunación'].apply(lambda Vacunación: 1/6 if Vacunación == 1 else 0)\n",
        "Risk5 = data_targ['Transporte'].apply(lambda Transporte: 1/6 if Transporte == 1 else 0)\n",
        "Risk6 = data_targ['Edad'].apply(lambda Edad: 1/6 if Edad >= 60 else 0)\n",
        "\n",
        "risk_df = pd.concat([Risk1,Risk2,Risk3, Risk4, Risk5, Risk6] , axis=1)\n",
        "\n",
        "risk_df.head()"
      ],
      "execution_count": null,
      "outputs": [
        {
          "output_type": "execute_result",
          "data": {
            "text/html": [
              "<div>\n",
              "<style scoped>\n",
              "    .dataframe tbody tr th:only-of-type {\n",
              "        vertical-align: middle;\n",
              "    }\n",
              "\n",
              "    .dataframe tbody tr th {\n",
              "        vertical-align: top;\n",
              "    }\n",
              "\n",
              "    .dataframe thead th {\n",
              "        text-align: right;\n",
              "    }\n",
              "</style>\n",
              "<table border=\"1\" class=\"dataframe\">\n",
              "  <thead>\n",
              "    <tr style=\"text-align: right;\">\n",
              "      <th></th>\n",
              "      <th>Vulnerable</th>\n",
              "      <th>Requerimiento_Organizacional</th>\n",
              "      <th>Hijos_17años</th>\n",
              "      <th>Vacunación</th>\n",
              "      <th>Transporte</th>\n",
              "      <th>Edad</th>\n",
              "    </tr>\n",
              "  </thead>\n",
              "  <tbody>\n",
              "    <tr>\n",
              "      <th>0</th>\n",
              "      <td>0.0</td>\n",
              "      <td>0.0</td>\n",
              "      <td>0.000000</td>\n",
              "      <td>0.000000</td>\n",
              "      <td>0.0</td>\n",
              "      <td>0.0</td>\n",
              "    </tr>\n",
              "    <tr>\n",
              "      <th>1</th>\n",
              "      <td>0.0</td>\n",
              "      <td>0.0</td>\n",
              "      <td>0.000000</td>\n",
              "      <td>0.166667</td>\n",
              "      <td>0.0</td>\n",
              "      <td>0.0</td>\n",
              "    </tr>\n",
              "    <tr>\n",
              "      <th>2</th>\n",
              "      <td>0.0</td>\n",
              "      <td>0.0</td>\n",
              "      <td>0.000000</td>\n",
              "      <td>0.166667</td>\n",
              "      <td>0.0</td>\n",
              "      <td>0.0</td>\n",
              "    </tr>\n",
              "    <tr>\n",
              "      <th>3</th>\n",
              "      <td>0.0</td>\n",
              "      <td>0.0</td>\n",
              "      <td>0.000000</td>\n",
              "      <td>0.166667</td>\n",
              "      <td>0.0</td>\n",
              "      <td>0.0</td>\n",
              "    </tr>\n",
              "    <tr>\n",
              "      <th>4</th>\n",
              "      <td>0.0</td>\n",
              "      <td>0.0</td>\n",
              "      <td>0.166667</td>\n",
              "      <td>0.166667</td>\n",
              "      <td>0.0</td>\n",
              "      <td>0.0</td>\n",
              "    </tr>\n",
              "  </tbody>\n",
              "</table>\n",
              "</div>"
            ],
            "text/plain": [
              "   Vulnerable  Requerimiento_Organizacional  ...  Transporte  Edad\n",
              "0         0.0                           0.0  ...         0.0   0.0\n",
              "1         0.0                           0.0  ...         0.0   0.0\n",
              "2         0.0                           0.0  ...         0.0   0.0\n",
              "3         0.0                           0.0  ...         0.0   0.0\n",
              "4         0.0                           0.0  ...         0.0   0.0\n",
              "\n",
              "[5 rows x 6 columns]"
            ]
          },
          "metadata": {
            "tags": []
          },
          "execution_count": 106
        }
      ]
    },
    {
      "cell_type": "code",
      "metadata": {
        "colab": {
          "base_uri": "https://localhost:8080/"
        },
        "id": "6WBj-yl98RYF",
        "outputId": "d9d38e6e-0d42-4bf0-8cf3-f139d0d34142"
      },
      "source": [
        "risk_df.columns"
      ],
      "execution_count": null,
      "outputs": [
        {
          "output_type": "execute_result",
          "data": {
            "text/plain": [
              "Index(['Vulnerable', 'Requerimiento_Organizacional', 'Hijos_17años',\n",
              "       'Vacunación', 'Transporte', 'Edad'],\n",
              "      dtype='object')"
            ]
          },
          "metadata": {
            "tags": []
          },
          "execution_count": 107
        }
      ]
    },
    {
      "cell_type": "code",
      "metadata": {
        "colab": {
          "base_uri": "https://localhost:8080/"
        },
        "id": "OqU_Ib_58UXr",
        "outputId": "60893dc9-f104-441b-e0c2-6af651de3d0d"
      },
      "source": [
        "data[\"Transporte\"].value_counts()"
      ],
      "execution_count": null,
      "outputs": [
        {
          "output_type": "execute_result",
          "data": {
            "text/plain": [
              "Si    296\n",
              "No     58\n",
              "Name: Transporte, dtype: int64"
            ]
          },
          "metadata": {
            "tags": []
          },
          "execution_count": 108
        }
      ]
    },
    {
      "cell_type": "code",
      "metadata": {
        "colab": {
          "base_uri": "https://localhost:8080/"
        },
        "id": "BUNXw7uL8b4f",
        "outputId": "8437a1d4-ab8b-47f5-b65f-2213ece281b6"
      },
      "source": [
        "risk_df[\"Transporte\"].value_counts()"
      ],
      "execution_count": null,
      "outputs": [
        {
          "output_type": "execute_result",
          "data": {
            "text/plain": [
              "0.000000    296\n",
              "0.166667     58\n",
              "Name: Transporte, dtype: int64"
            ]
          },
          "metadata": {
            "tags": []
          },
          "execution_count": 109
        }
      ]
    },
    {
      "cell_type": "code",
      "metadata": {
        "colab": {
          "base_uri": "https://localhost:8080/"
        },
        "id": "k86pAdqw_rvW",
        "outputId": "262c89d0-b5ba-4c69-db4d-b7dab5002f47"
      },
      "source": [
        "data[\"Requerimiento Organizacional\"].value_counts()"
      ],
      "execution_count": null,
      "outputs": [
        {
          "output_type": "execute_result",
          "data": {
            "text/plain": [
              "Remoto        169\n",
              "Flotante      133\n",
              "Presencial     52\n",
              "Name: Requerimiento Organizacional, dtype: int64"
            ]
          },
          "metadata": {
            "tags": []
          },
          "execution_count": 110
        }
      ]
    },
    {
      "cell_type": "code",
      "metadata": {
        "colab": {
          "base_uri": "https://localhost:8080/"
        },
        "id": "4wCO0x7b_rlQ",
        "outputId": "f68f2487-3d9d-4d1b-ddc3-4352d615d970"
      },
      "source": [
        "risk_df[\"Requerimiento_Organizacional\"].value_counts()"
      ],
      "execution_count": null,
      "outputs": [
        {
          "output_type": "execute_result",
          "data": {
            "text/plain": [
              "0.000000    185\n",
              "0.166667    169\n",
              "Name: Requerimiento_Organizacional, dtype: int64"
            ]
          },
          "metadata": {
            "tags": []
          },
          "execution_count": 111
        }
      ]
    },
    {
      "cell_type": "markdown",
      "metadata": {
        "id": "kcbS8iNUiTNA"
      },
      "source": [
        "# Añadiendolos a la BD"
      ]
    },
    {
      "cell_type": "code",
      "metadata": {
        "colab": {
          "base_uri": "https://localhost:8080/",
          "height": 204
        },
        "id": "z9Yv2IV8gUg-",
        "outputId": "3c2e6e30-cf66-459b-88d0-3124dcbc6825"
      },
      "source": [
        "data_targ['Risk_Factors'] = risk_df.sum(axis=1)\n",
        "data_targ['Risk_Factors'] = round(data_targ[\"Risk_Factors\"]*100, 1)\n",
        "data_targ.head()"
      ],
      "execution_count": null,
      "outputs": [
        {
          "output_type": "execute_result",
          "data": {
            "text/html": [
              "<div>\n",
              "<style scoped>\n",
              "    .dataframe tbody tr th:only-of-type {\n",
              "        vertical-align: middle;\n",
              "    }\n",
              "\n",
              "    .dataframe tbody tr th {\n",
              "        vertical-align: top;\n",
              "    }\n",
              "\n",
              "    .dataframe thead th {\n",
              "        text-align: right;\n",
              "    }\n",
              "</style>\n",
              "<table border=\"1\" class=\"dataframe\">\n",
              "  <thead>\n",
              "    <tr style=\"text-align: right;\">\n",
              "      <th></th>\n",
              "      <th>Vulnerable</th>\n",
              "      <th>Transporte</th>\n",
              "      <th>Vacunación</th>\n",
              "      <th>Edad</th>\n",
              "      <th>Requerimiento_Organizacional</th>\n",
              "      <th>Hijos_17años</th>\n",
              "      <th>Risk_Factors</th>\n",
              "    </tr>\n",
              "  </thead>\n",
              "  <tbody>\n",
              "    <tr>\n",
              "      <th>0</th>\n",
              "      <td>0</td>\n",
              "      <td>0</td>\n",
              "      <td>0</td>\n",
              "      <td>56.0</td>\n",
              "      <td>0</td>\n",
              "      <td>0</td>\n",
              "      <td>0.0</td>\n",
              "    </tr>\n",
              "    <tr>\n",
              "      <th>1</th>\n",
              "      <td>0</td>\n",
              "      <td>0</td>\n",
              "      <td>1</td>\n",
              "      <td>46.0</td>\n",
              "      <td>0</td>\n",
              "      <td>0</td>\n",
              "      <td>16.7</td>\n",
              "    </tr>\n",
              "    <tr>\n",
              "      <th>2</th>\n",
              "      <td>0</td>\n",
              "      <td>0</td>\n",
              "      <td>1</td>\n",
              "      <td>49.0</td>\n",
              "      <td>0</td>\n",
              "      <td>0</td>\n",
              "      <td>16.7</td>\n",
              "    </tr>\n",
              "    <tr>\n",
              "      <th>3</th>\n",
              "      <td>0</td>\n",
              "      <td>0</td>\n",
              "      <td>1</td>\n",
              "      <td>43.0</td>\n",
              "      <td>0</td>\n",
              "      <td>0</td>\n",
              "      <td>16.7</td>\n",
              "    </tr>\n",
              "    <tr>\n",
              "      <th>4</th>\n",
              "      <td>0</td>\n",
              "      <td>0</td>\n",
              "      <td>1</td>\n",
              "      <td>47.0</td>\n",
              "      <td>0</td>\n",
              "      <td>1</td>\n",
              "      <td>33.3</td>\n",
              "    </tr>\n",
              "  </tbody>\n",
              "</table>\n",
              "</div>"
            ],
            "text/plain": [
              "   Vulnerable  Transporte  ...  Hijos_17años  Risk_Factors\n",
              "0           0           0  ...             0           0.0\n",
              "1           0           0  ...             0          16.7\n",
              "2           0           0  ...             0          16.7\n",
              "3           0           0  ...             0          16.7\n",
              "4           0           0  ...             1          33.3\n",
              "\n",
              "[5 rows x 7 columns]"
            ]
          },
          "metadata": {
            "tags": []
          },
          "execution_count": 112
        }
      ]
    },
    {
      "cell_type": "markdown",
      "metadata": {
        "id": "cyrXrsGRibcj"
      },
      "source": [
        "# Primera propuesta de Clusters a traves de Score"
      ]
    },
    {
      "cell_type": "code",
      "metadata": {
        "colab": {
          "base_uri": "https://localhost:8080/"
        },
        "id": "hdLweaA4gWzc",
        "outputId": "914aa0d6-49d2-4589-93c2-1e020f906c22"
      },
      "source": [
        "data_targ[\"Risk_Factors\"].value_counts()"
      ],
      "execution_count": null,
      "outputs": [
        {
          "output_type": "execute_result",
          "data": {
            "text/plain": [
              "33.3    119\n",
              "16.7    110\n",
              "50.0     90\n",
              "0.0      21\n",
              "66.7     14\n",
              "Name: Risk_Factors, dtype: int64"
            ]
          },
          "metadata": {
            "tags": []
          },
          "execution_count": 113
        }
      ]
    },
    {
      "cell_type": "markdown",
      "metadata": {
        "id": "7Vrg9pUWiYO1"
      },
      "source": [
        "# Creación de Clústeres (Score) Etiquetados"
      ]
    },
    {
      "cell_type": "code",
      "metadata": {
        "colab": {
          "base_uri": "https://localhost:8080/"
        },
        "id": "ioupKpmRhdlo",
        "outputId": "ad16ba6d-bb5e-48a9-b235-085452604f1b"
      },
      "source": [
        "data_targ[\"Risk_Factors_Group\"] = data_targ['Risk_Factors'].apply(lambda x: 'Ola-' + str(int(x)))\n",
        "data_targ[\"Risk_Factors_Group\"].value_counts()"
      ],
      "execution_count": null,
      "outputs": [
        {
          "output_type": "execute_result",
          "data": {
            "text/plain": [
              "Ola-33    119\n",
              "Ola-16    110\n",
              "Ola-50     90\n",
              "Ola-0      21\n",
              "Ola-66     14\n",
              "Name: Risk_Factors_Group, dtype: int64"
            ]
          },
          "metadata": {
            "tags": []
          },
          "execution_count": 114
        }
      ]
    },
    {
      "cell_type": "markdown",
      "metadata": {
        "id": "cYaRFOZ2ic6I"
      },
      "source": [
        "# Análisis de Clústeres (Score)"
      ]
    },
    {
      "cell_type": "code",
      "metadata": {
        "colab": {
          "base_uri": "https://localhost:8080/",
          "height": 296
        },
        "id": "3-tzz1CGh0vT",
        "outputId": "87ee6d1f-8569-43c0-f4f4-a49b52cb4288"
      },
      "source": [
        "y = data_targ['Risk_Factors'].apply(lambda x: 'Grupo-' + str(int(x)))\n",
        "y\n",
        "\n",
        "fig, ax = plt.subplots()\n",
        "ax.bar(y.value_counts().index, y.value_counts())\n",
        "ax.set_xlabel('Clusters')\n",
        "ax.set_ylabel('Frecuencia')"
      ],
      "execution_count": null,
      "outputs": [
        {
          "output_type": "execute_result",
          "data": {
            "text/plain": [
              "Text(0, 0.5, 'Frecuencia')"
            ]
          },
          "metadata": {
            "tags": []
          },
          "execution_count": 115
        },
        {
          "output_type": "display_data",
          "data": {
            "image/png": "[encoded data removed]",
            "text/plain": [
              "<Figure size 432x288 with 1 Axes>"
            ]
          },
          "metadata": {
            "tags": [],
            "needs_background": "light"
          }
        }
      ]
    },
    {
      "cell_type": "code",
      "metadata": {
        "colab": {
          "base_uri": "https://localhost:8080/",
          "height": 281
        },
        "id": "LlVFg9ZEiGsL",
        "outputId": "ba22790d-303e-48e3-af49-176d25743246"
      },
      "source": [
        "fig, ax = plt.subplots()\n",
        "ax.pie(y.value_counts(), labels = y.value_counts().index)\n",
        "ax.set_title('Diagrama de Pie')"
      ],
      "execution_count": null,
      "outputs": [
        {
          "output_type": "execute_result",
          "data": {
            "text/plain": [
              "Text(0.5, 1.0, 'Diagrama de Pie')"
            ]
          },
          "metadata": {
            "tags": []
          },
          "execution_count": 67
        },
        {
          "output_type": "display_data",
          "data": {
            "image/png": "[encoded data removed]",
            "text/plain": [
              "<Figure size 432x288 with 1 Axes>"
            ]
          },
          "metadata": {
            "tags": []
          }
        }
      ]
    },
    {
      "cell_type": "markdown",
      "metadata": {
        "id": "EmoCCwlBVNX5"
      },
      "source": [
        "# Probando una regresión lineal multiple"
      ]
    },
    {
      "cell_type": "code",
      "metadata": {
        "id": "I_lncl6EVYrr"
      },
      "source": [
        "target = data_targ[\"Risk_Factors\"]\n",
        "dforreg = data_targ.drop([\"Risk_Factors\", \"Risk_Factors_Group\"], axis=1)"
      ],
      "execution_count": null,
      "outputs": []
    },
    {
      "cell_type": "code",
      "metadata": {
        "colab": {
          "base_uri": "https://localhost:8080/"
        },
        "id": "zqt8OHSWVv2_",
        "outputId": "8240c761-1b1d-4353-8150-98cdf3e743bf"
      },
      "source": [
        "reg_lin = sm.OLS(target, sm.add_constant(dforreg)).fit()\n",
        "print(reg_lin.summary())"
      ],
      "execution_count": null,
      "outputs": [
        {
          "output_type": "stream",
          "text": [
            "                            OLS Regression Results                            \n",
            "==============================================================================\n",
            "Dep. Variable:           Risk_Factors   R-squared:                       0.888\n",
            "Model:                            OLS   Adj. R-squared:                  0.886\n",
            "Method:                 Least Squares   F-statistic:                     460.4\n",
            "Date:                Thu, 22 Jul 2021   Prob (F-statistic):          7.02e-162\n",
            "Time:                        17:59:22   Log-Likelihood:                -1101.1\n",
            "No. Observations:                 354   AIC:                             2216.\n",
            "Df Residuals:                     347   BIC:                             2243.\n",
            "Df Model:                           6                                         \n",
            "Covariance Type:            nonrobust                                         \n",
            "================================================================================================\n",
            "                                   coef    std err          t      P>|t|      [0.025      0.975]\n",
            "------------------------------------------------------------------------------------------------\n",
            "const                          -15.4443      1.482    -10.420      0.000     -18.359     -12.529\n",
            "Vulnerable                      20.6408      1.033     19.985      0.000      18.609      22.672\n",
            "Transporte                      18.2206      0.815     22.351      0.000      16.617      19.824\n",
            "Vacunación                      15.7814      0.695     22.709      0.000      14.415      17.148\n",
            "Edad                             0.3070      0.029     10.585      0.000       0.250       0.364\n",
            "Requerimiento_Organizacional    10.0048      0.417     23.972      0.000       9.184      10.826\n",
            "Hijos_17años                     8.0467      0.404     19.927      0.000       7.252       8.841\n",
            "==============================================================================\n",
            "Omnibus:                       17.654   Durbin-Watson:                   1.273\n",
            "Prob(Omnibus):                  0.000   Jarque-Bera (JB):               20.186\n",
            "Skew:                           0.475   Prob(JB):                     4.14e-05\n",
            "Kurtosis:                       3.682   Cond. No.                         241.\n",
            "==============================================================================\n",
            "\n",
            "Warnings:\n",
            "[1] Standard Errors assume that the covariance matrix of the errors is correctly specified.\n"
          ],
          "name": "stdout"
        }
      ]
    },
    {
      "cell_type": "markdown",
      "metadata": {
        "id": "MeO1dXqZV1Bv"
      },
      "source": [
        "# Scaling (Kmeans funcionality)"
      ]
    },
    {
      "cell_type": "code",
      "metadata": {
        "colab": {
          "base_uri": "https://localhost:8080/",
          "height": 204
        },
        "id": "H5qpfME7WGqM",
        "outputId": "695950ca-c6ed-4849-ad92-7ce7237d5c0e"
      },
      "source": [
        "dforscale = data_targ.drop([\"Risk_Factors\", \"Risk_Factors_Group\"], axis=1)\n",
        "\n",
        "scaler = StandardScaler()\n",
        "scaled = scaler.fit_transform(dforscale)\n",
        "df_scaled = pd.DataFrame(scaled)\n",
        "\n",
        "columns = [\"Vulnerable\", \"Transporte\", \"Edad\",\"Vacunación\", \"Requerimiento_Organizacional\",\"Hijos_17años\"]\n",
        "\n",
        "df_scaled.columns = columns\n",
        "\n",
        "df_scaled.head()"
      ],
      "execution_count": null,
      "outputs": [
        {
          "output_type": "execute_result",
          "data": {
            "text/html": [
              "<div>\n",
              "<style scoped>\n",
              "    .dataframe tbody tr th:only-of-type {\n",
              "        vertical-align: middle;\n",
              "    }\n",
              "\n",
              "    .dataframe tbody tr th {\n",
              "        vertical-align: top;\n",
              "    }\n",
              "\n",
              "    .dataframe thead th {\n",
              "        text-align: right;\n",
              "    }\n",
              "</style>\n",
              "<table border=\"1\" class=\"dataframe\">\n",
              "  <thead>\n",
              "    <tr style=\"text-align: right;\">\n",
              "      <th></th>\n",
              "      <th>Vulnerable</th>\n",
              "      <th>Transporte</th>\n",
              "      <th>Edad</th>\n",
              "      <th>Vacunación</th>\n",
              "      <th>Requerimiento_Organizacional</th>\n",
              "      <th>Hijos_17años</th>\n",
              "    </tr>\n",
              "  </thead>\n",
              "  <tbody>\n",
              "    <tr>\n",
              "      <th>0</th>\n",
              "      <td>-0.396059</td>\n",
              "      <td>-0.442658</td>\n",
              "      <td>-1.627901</td>\n",
              "      <td>1.082501</td>\n",
              "      <td>-1.853914</td>\n",
              "      <td>-0.575972</td>\n",
              "    </tr>\n",
              "    <tr>\n",
              "      <th>1</th>\n",
              "      <td>-0.396059</td>\n",
              "      <td>-0.442658</td>\n",
              "      <td>0.597106</td>\n",
              "      <td>0.256271</td>\n",
              "      <td>-1.853914</td>\n",
              "      <td>-0.575972</td>\n",
              "    </tr>\n",
              "    <tr>\n",
              "      <th>2</th>\n",
              "      <td>-0.396059</td>\n",
              "      <td>-0.442658</td>\n",
              "      <td>0.597106</td>\n",
              "      <td>0.504140</td>\n",
              "      <td>-1.853914</td>\n",
              "      <td>-0.575972</td>\n",
              "    </tr>\n",
              "    <tr>\n",
              "      <th>3</th>\n",
              "      <td>-0.396059</td>\n",
              "      <td>-0.442658</td>\n",
              "      <td>0.597106</td>\n",
              "      <td>0.008402</td>\n",
              "      <td>-1.853914</td>\n",
              "      <td>-0.575972</td>\n",
              "    </tr>\n",
              "    <tr>\n",
              "      <th>4</th>\n",
              "      <td>-0.396059</td>\n",
              "      <td>-0.442658</td>\n",
              "      <td>0.597106</td>\n",
              "      <td>0.338894</td>\n",
              "      <td>-1.853914</td>\n",
              "      <td>0.765437</td>\n",
              "    </tr>\n",
              "  </tbody>\n",
              "</table>\n",
              "</div>"
            ],
            "text/plain": [
              "   Vulnerable  Transporte  ...  Requerimiento_Organizacional  Hijos_17años\n",
              "0   -0.396059   -0.442658  ...                     -1.853914     -0.575972\n",
              "1   -0.396059   -0.442658  ...                     -1.853914     -0.575972\n",
              "2   -0.396059   -0.442658  ...                     -1.853914     -0.575972\n",
              "3   -0.396059   -0.442658  ...                     -1.853914     -0.575972\n",
              "4   -0.396059   -0.442658  ...                     -1.853914      0.765437\n",
              "\n",
              "[5 rows x 6 columns]"
            ]
          },
          "metadata": {
            "tags": []
          },
          "execution_count": 116
        }
      ]
    },
    {
      "cell_type": "markdown",
      "metadata": {
        "id": "z0gizHVrYo9r"
      },
      "source": [
        "# Clusterings K-means con PCA"
      ]
    },
    {
      "cell_type": "code",
      "metadata": {
        "id": "L3Q-wpYEe3bO"
      },
      "source": [
        "data_kmeans = data_targ.drop([\"Risk_Factors\", \"Risk_Factors_Group\"], axis=1)"
      ],
      "execution_count": null,
      "outputs": []
    },
    {
      "cell_type": "code",
      "metadata": {
        "colab": {
          "base_uri": "https://localhost:8080/",
          "height": 204
        },
        "id": "97v0vAaHYoVG",
        "outputId": "1c94e5ef-bb1e-4722-cd7d-dbc1c3fa2110"
      },
      "source": [
        "pca = PCA(n_components=2)\n",
        "principalComponents = pca.fit_transform(data_kmeans)\n",
        "df_pca = pd.DataFrame(data = principalComponents\n",
        "             , columns = ['component1', 'component2'])\n",
        "df_pca.head()"
      ],
      "execution_count": null,
      "outputs": [
        {
          "output_type": "execute_result",
          "data": {
            "text/html": [
              "<div>\n",
              "<style scoped>\n",
              "    .dataframe tbody tr th:only-of-type {\n",
              "        vertical-align: middle;\n",
              "    }\n",
              "\n",
              "    .dataframe tbody tr th {\n",
              "        vertical-align: top;\n",
              "    }\n",
              "\n",
              "    .dataframe thead th {\n",
              "        text-align: right;\n",
              "    }\n",
              "</style>\n",
              "<table border=\"1\" class=\"dataframe\">\n",
              "  <thead>\n",
              "    <tr style=\"text-align: right;\">\n",
              "      <th></th>\n",
              "      <th>component1</th>\n",
              "      <th>component2</th>\n",
              "    </tr>\n",
              "  </thead>\n",
              "  <tbody>\n",
              "    <tr>\n",
              "      <th>0</th>\n",
              "      <td>13.090880</td>\n",
              "      <td>-0.606684</td>\n",
              "    </tr>\n",
              "    <tr>\n",
              "      <th>1</th>\n",
              "      <td>3.082251</td>\n",
              "      <td>-0.587304</td>\n",
              "    </tr>\n",
              "    <tr>\n",
              "      <th>2</th>\n",
              "      <td>6.081575</td>\n",
              "      <td>-0.602294</td>\n",
              "    </tr>\n",
              "    <tr>\n",
              "      <th>3</th>\n",
              "      <td>0.082928</td>\n",
              "      <td>-0.572313</td>\n",
              "    </tr>\n",
              "    <tr>\n",
              "      <th>4</th>\n",
              "      <td>4.086542</td>\n",
              "      <td>0.394979</td>\n",
              "    </tr>\n",
              "  </tbody>\n",
              "</table>\n",
              "</div>"
            ],
            "text/plain": [
              "   component1  component2\n",
              "0   13.090880   -0.606684\n",
              "1    3.082251   -0.587304\n",
              "2    6.081575   -0.602294\n",
              "3    0.082928   -0.572313\n",
              "4    4.086542    0.394979"
            ]
          },
          "metadata": {
            "tags": []
          },
          "execution_count": 118
        }
      ]
    },
    {
      "cell_type": "code",
      "metadata": {
        "colab": {
          "base_uri": "https://localhost:8080/",
          "height": 265
        },
        "id": "nYeVe4U4eR6P",
        "outputId": "fa217597-8fb4-46f1-d980-3ed7b06beb32"
      },
      "source": [
        "kmeans = KMeans(n_clusters=6, max_iter=1000000).fit(df_pca)\n",
        "y_labels = kmeans.labels_\n",
        "y_kmeans = kmeans.predict(df_pca)\n",
        "\n",
        "# centroids = kmeans.cluster_centers_\n",
        "\n",
        "plt.scatter(df_pca['component1'], df_pca['component2'], c= kmeans.labels_.astype(float), s=50, alpha=0.5)\n",
        "# plt.scatter(centroids[:, 0], centroids[:, 1], c='red', s=50)\n",
        "plt.show()"
      ],
      "execution_count": null,
      "outputs": [
        {
          "output_type": "display_data",
          "data": {
            "image/png": "[encoded data removed]",
            "text/plain": [
              "<Figure size 432x288 with 1 Axes>"
            ]
          },
          "metadata": {
            "tags": [],
            "needs_background": "light"
          }
        }
      ]
    },
    {
      "cell_type": "code",
      "metadata": {
        "colab": {
          "base_uri": "https://localhost:8080/",
          "height": 204
        },
        "id": "PHO1hhSZGQGH",
        "outputId": "23392a0c-1aec-44dd-a27e-0fd9ce82ca7e"
      },
      "source": [
        "data_targ[\"Cluster\"] = y_kmeans\n",
        "data_targ[\"Cluster\"] = data_targ['Cluster'].apply(lambda x: 'Cluster-' + str(int(x)))\n",
        "data_targ.head()"
      ],
      "execution_count": null,
      "outputs": [
        {
          "output_type": "execute_result",
          "data": {
            "text/html": [
              "<div>\n",
              "<style scoped>\n",
              "    .dataframe tbody tr th:only-of-type {\n",
              "        vertical-align: middle;\n",
              "    }\n",
              "\n",
              "    .dataframe tbody tr th {\n",
              "        vertical-align: top;\n",
              "    }\n",
              "\n",
              "    .dataframe thead th {\n",
              "        text-align: right;\n",
              "    }\n",
              "</style>\n",
              "<table border=\"1\" class=\"dataframe\">\n",
              "  <thead>\n",
              "    <tr style=\"text-align: right;\">\n",
              "      <th></th>\n",
              "      <th>Vulnerable</th>\n",
              "      <th>Transporte</th>\n",
              "      <th>Vacunación</th>\n",
              "      <th>Edad</th>\n",
              "      <th>Requerimiento_Organizacional</th>\n",
              "      <th>Hijos_17años</th>\n",
              "      <th>Risk_Factors</th>\n",
              "      <th>Risk_Factors_Group</th>\n",
              "      <th>Cluster</th>\n",
              "    </tr>\n",
              "  </thead>\n",
              "  <tbody>\n",
              "    <tr>\n",
              "      <th>0</th>\n",
              "      <td>0</td>\n",
              "      <td>0</td>\n",
              "      <td>0</td>\n",
              "      <td>56.0</td>\n",
              "      <td>0</td>\n",
              "      <td>0</td>\n",
              "      <td>0.0</td>\n",
              "      <td>Ola-0</td>\n",
              "      <td>Cluster-3</td>\n",
              "    </tr>\n",
              "    <tr>\n",
              "      <th>1</th>\n",
              "      <td>0</td>\n",
              "      <td>0</td>\n",
              "      <td>1</td>\n",
              "      <td>46.0</td>\n",
              "      <td>0</td>\n",
              "      <td>0</td>\n",
              "      <td>16.7</td>\n",
              "      <td>Ola-16</td>\n",
              "      <td>Cluster-1</td>\n",
              "    </tr>\n",
              "    <tr>\n",
              "      <th>2</th>\n",
              "      <td>0</td>\n",
              "      <td>0</td>\n",
              "      <td>1</td>\n",
              "      <td>49.0</td>\n",
              "      <td>0</td>\n",
              "      <td>0</td>\n",
              "      <td>16.7</td>\n",
              "      <td>Ola-16</td>\n",
              "      <td>Cluster-3</td>\n",
              "    </tr>\n",
              "    <tr>\n",
              "      <th>3</th>\n",
              "      <td>0</td>\n",
              "      <td>0</td>\n",
              "      <td>1</td>\n",
              "      <td>43.0</td>\n",
              "      <td>0</td>\n",
              "      <td>0</td>\n",
              "      <td>16.7</td>\n",
              "      <td>Ola-16</td>\n",
              "      <td>Cluster-1</td>\n",
              "    </tr>\n",
              "    <tr>\n",
              "      <th>4</th>\n",
              "      <td>0</td>\n",
              "      <td>0</td>\n",
              "      <td>1</td>\n",
              "      <td>47.0</td>\n",
              "      <td>0</td>\n",
              "      <td>1</td>\n",
              "      <td>33.3</td>\n",
              "      <td>Ola-33</td>\n",
              "      <td>Cluster-1</td>\n",
              "    </tr>\n",
              "  </tbody>\n",
              "</table>\n",
              "</div>"
            ],
            "text/plain": [
              "   Vulnerable  Transporte  ...  Risk_Factors_Group    Cluster\n",
              "0           0           0  ...               Ola-0  Cluster-3\n",
              "1           0           0  ...              Ola-16  Cluster-1\n",
              "2           0           0  ...              Ola-16  Cluster-3\n",
              "3           0           0  ...              Ola-16  Cluster-1\n",
              "4           0           0  ...              Ola-33  Cluster-1\n",
              "\n",
              "[5 rows x 9 columns]"
            ]
          },
          "metadata": {
            "tags": []
          },
          "execution_count": 120
        }
      ]
    },
    {
      "cell_type": "code",
      "metadata": {
        "colab": {
          "base_uri": "https://localhost:8080/"
        },
        "id": "3ZqVdnxMQK_y",
        "outputId": "87916217-815c-4c88-c5bd-5d852577c260"
      },
      "source": [
        "data_targ[\"Cluster\"].value_counts()"
      ],
      "execution_count": null,
      "outputs": [
        {
          "output_type": "execute_result",
          "data": {
            "text/plain": [
              "Cluster-1    94\n",
              "Cluster-4    89\n",
              "Cluster-3    65\n",
              "Cluster-0    59\n",
              "Cluster-2    44\n",
              "Cluster-5     3\n",
              "Name: Cluster, dtype: int64"
            ]
          },
          "metadata": {
            "tags": []
          },
          "execution_count": 121
        }
      ]
    },
    {
      "cell_type": "code",
      "metadata": {
        "colab": {
          "base_uri": "https://localhost:8080/",
          "height": 204
        },
        "id": "9TjD5E0xHEst",
        "outputId": "c0f6db6e-fbf2-40f8-fb6c-5732af777b02"
      },
      "source": [
        "data_targ[(data_targ.Cluster == \"Cluster-0\")].head(5)"
      ],
      "execution_count": null,
      "outputs": [
        {
          "output_type": "execute_result",
          "data": {
            "text/html": [
              "<div>\n",
              "<style scoped>\n",
              "    .dataframe tbody tr th:only-of-type {\n",
              "        vertical-align: middle;\n",
              "    }\n",
              "\n",
              "    .dataframe tbody tr th {\n",
              "        vertical-align: top;\n",
              "    }\n",
              "\n",
              "    .dataframe thead th {\n",
              "        text-align: right;\n",
              "    }\n",
              "</style>\n",
              "<table border=\"1\" class=\"dataframe\">\n",
              "  <thead>\n",
              "    <tr style=\"text-align: right;\">\n",
              "      <th></th>\n",
              "      <th>Vulnerable</th>\n",
              "      <th>Transporte</th>\n",
              "      <th>Vacunación</th>\n",
              "      <th>Edad</th>\n",
              "      <th>Requerimiento_Organizacional</th>\n",
              "      <th>Hijos_17años</th>\n",
              "      <th>Risk_Factors</th>\n",
              "      <th>Risk_Factors_Group</th>\n",
              "      <th>Cluster</th>\n",
              "    </tr>\n",
              "  </thead>\n",
              "  <tbody>\n",
              "    <tr>\n",
              "      <th>28</th>\n",
              "      <td>0</td>\n",
              "      <td>0</td>\n",
              "      <td>1</td>\n",
              "      <td>28.0</td>\n",
              "      <td>0</td>\n",
              "      <td>1</td>\n",
              "      <td>33.3</td>\n",
              "      <td>Ola-33</td>\n",
              "      <td>Cluster-0</td>\n",
              "    </tr>\n",
              "    <tr>\n",
              "      <th>51</th>\n",
              "      <td>0</td>\n",
              "      <td>0</td>\n",
              "      <td>0</td>\n",
              "      <td>24.0</td>\n",
              "      <td>0</td>\n",
              "      <td>0</td>\n",
              "      <td>0.0</td>\n",
              "      <td>Ola-0</td>\n",
              "      <td>Cluster-0</td>\n",
              "    </tr>\n",
              "    <tr>\n",
              "      <th>53</th>\n",
              "      <td>0</td>\n",
              "      <td>0</td>\n",
              "      <td>1</td>\n",
              "      <td>24.0</td>\n",
              "      <td>0</td>\n",
              "      <td>0</td>\n",
              "      <td>16.7</td>\n",
              "      <td>Ola-16</td>\n",
              "      <td>Cluster-0</td>\n",
              "    </tr>\n",
              "    <tr>\n",
              "      <th>54</th>\n",
              "      <td>0</td>\n",
              "      <td>0</td>\n",
              "      <td>1</td>\n",
              "      <td>29.0</td>\n",
              "      <td>0</td>\n",
              "      <td>0</td>\n",
              "      <td>16.7</td>\n",
              "      <td>Ola-16</td>\n",
              "      <td>Cluster-0</td>\n",
              "    </tr>\n",
              "    <tr>\n",
              "      <th>57</th>\n",
              "      <td>0</td>\n",
              "      <td>0</td>\n",
              "      <td>1</td>\n",
              "      <td>26.0</td>\n",
              "      <td>1</td>\n",
              "      <td>0</td>\n",
              "      <td>16.7</td>\n",
              "      <td>Ola-16</td>\n",
              "      <td>Cluster-0</td>\n",
              "    </tr>\n",
              "  </tbody>\n",
              "</table>\n",
              "</div>"
            ],
            "text/plain": [
              "    Vulnerable  Transporte  ...  Risk_Factors_Group    Cluster\n",
              "28           0           0  ...              Ola-33  Cluster-0\n",
              "51           0           0  ...               Ola-0  Cluster-0\n",
              "53           0           0  ...              Ola-16  Cluster-0\n",
              "54           0           0  ...              Ola-16  Cluster-0\n",
              "57           0           0  ...              Ola-16  Cluster-0\n",
              "\n",
              "[5 rows x 9 columns]"
            ]
          },
          "metadata": {
            "tags": []
          },
          "execution_count": 122
        }
      ]
    },
    {
      "cell_type": "code",
      "metadata": {
        "colab": {
          "base_uri": "https://localhost:8080/",
          "height": 281
        },
        "id": "qGxMgtE3Di08",
        "outputId": "178ff793-aff6-4581-bdaa-d94cc5ef8b8b"
      },
      "source": [
        "y = data_targ['Cluster']\n",
        "\n",
        "fig, ax = plt.subplots()\n",
        "\n",
        "ax.pie(y.value_counts(), labels = y.value_counts().index)\n",
        "ax.set_title('Diagrama de Pie')"
      ],
      "execution_count": null,
      "outputs": [
        {
          "output_type": "execute_result",
          "data": {
            "text/plain": [
              "Text(0.5, 1.0, 'Diagrama de Pie')"
            ]
          },
          "metadata": {
            "tags": []
          },
          "execution_count": 123
        },
        {
          "output_type": "display_data",
          "data": {
            "image/png": "[encoded data removed]",
            "text/plain": [
              "<Figure size 432x288 with 1 Axes>"
            ]
          },
          "metadata": {
            "tags": []
          }
        }
      ]
    },
    {
      "cell_type": "code",
      "metadata": {
        "colab": {
          "base_uri": "https://localhost:8080/",
          "height": 204
        },
        "id": "hynQCjmzDqFa",
        "outputId": "09ab7f3e-d080-4aab-efb4-1ddf65e8b701"
      },
      "source": [
        "data_targ.head()"
      ],
      "execution_count": null,
      "outputs": [
        {
          "output_type": "execute_result",
          "data": {
            "text/html": [
              "<div>\n",
              "<style scoped>\n",
              "    .dataframe tbody tr th:only-of-type {\n",
              "        vertical-align: middle;\n",
              "    }\n",
              "\n",
              "    .dataframe tbody tr th {\n",
              "        vertical-align: top;\n",
              "    }\n",
              "\n",
              "    .dataframe thead th {\n",
              "        text-align: right;\n",
              "    }\n",
              "</style>\n",
              "<table border=\"1\" class=\"dataframe\">\n",
              "  <thead>\n",
              "    <tr style=\"text-align: right;\">\n",
              "      <th></th>\n",
              "      <th>Vulnerable</th>\n",
              "      <th>Transporte</th>\n",
              "      <th>Vacunación</th>\n",
              "      <th>Edad</th>\n",
              "      <th>Requerimiento_Organizacional</th>\n",
              "      <th>Hijos_17años</th>\n",
              "      <th>Risk_Factors</th>\n",
              "      <th>Risk_Factors_Group</th>\n",
              "      <th>Cluster</th>\n",
              "    </tr>\n",
              "  </thead>\n",
              "  <tbody>\n",
              "    <tr>\n",
              "      <th>0</th>\n",
              "      <td>0</td>\n",
              "      <td>0</td>\n",
              "      <td>0</td>\n",
              "      <td>56.0</td>\n",
              "      <td>0</td>\n",
              "      <td>0</td>\n",
              "      <td>0.0</td>\n",
              "      <td>Ola-0</td>\n",
              "      <td>Cluster-3</td>\n",
              "    </tr>\n",
              "    <tr>\n",
              "      <th>1</th>\n",
              "      <td>0</td>\n",
              "      <td>0</td>\n",
              "      <td>1</td>\n",
              "      <td>46.0</td>\n",
              "      <td>0</td>\n",
              "      <td>0</td>\n",
              "      <td>16.7</td>\n",
              "      <td>Ola-16</td>\n",
              "      <td>Cluster-1</td>\n",
              "    </tr>\n",
              "    <tr>\n",
              "      <th>2</th>\n",
              "      <td>0</td>\n",
              "      <td>0</td>\n",
              "      <td>1</td>\n",
              "      <td>49.0</td>\n",
              "      <td>0</td>\n",
              "      <td>0</td>\n",
              "      <td>16.7</td>\n",
              "      <td>Ola-16</td>\n",
              "      <td>Cluster-3</td>\n",
              "    </tr>\n",
              "    <tr>\n",
              "      <th>3</th>\n",
              "      <td>0</td>\n",
              "      <td>0</td>\n",
              "      <td>1</td>\n",
              "      <td>43.0</td>\n",
              "      <td>0</td>\n",
              "      <td>0</td>\n",
              "      <td>16.7</td>\n",
              "      <td>Ola-16</td>\n",
              "      <td>Cluster-1</td>\n",
              "    </tr>\n",
              "    <tr>\n",
              "      <th>4</th>\n",
              "      <td>0</td>\n",
              "      <td>0</td>\n",
              "      <td>1</td>\n",
              "      <td>47.0</td>\n",
              "      <td>0</td>\n",
              "      <td>1</td>\n",
              "      <td>33.3</td>\n",
              "      <td>Ola-33</td>\n",
              "      <td>Cluster-1</td>\n",
              "    </tr>\n",
              "  </tbody>\n",
              "</table>\n",
              "</div>"
            ],
            "text/plain": [
              "   Vulnerable  Transporte  ...  Risk_Factors_Group    Cluster\n",
              "0           0           0  ...               Ola-0  Cluster-3\n",
              "1           0           0  ...              Ola-16  Cluster-1\n",
              "2           0           0  ...              Ola-16  Cluster-3\n",
              "3           0           0  ...              Ola-16  Cluster-1\n",
              "4           0           0  ...              Ola-33  Cluster-1\n",
              "\n",
              "[5 rows x 9 columns]"
            ]
          },
          "metadata": {
            "tags": []
          },
          "execution_count": 124
        }
      ]
    },
    {
      "cell_type": "markdown",
      "metadata": {
        "id": "Q6F0OQi6k1a0"
      },
      "source": [
        "# Función de Solución"
      ]
    },
    {
      "cell_type": "code",
      "metadata": {
        "colab": {
          "base_uri": "https://localhost:8080/",
          "height": 490
        },
        "id": "7-J0rdnBj15j",
        "outputId": "2a8a880d-149b-4f19-a118-2f9f6bbd4a02"
      },
      "source": [
        "Indicador_Gobierno = int(input(\"¿Cual es el Aforo maximo permitido por el Gobierno \"))\n",
        "\n",
        "Aforo_Seguro = int()\n",
        "\n",
        "if Indicador_Gobierno < 100:\n",
        "  Aforo_Seguro = Indicador_Gobierno - (Indicador_Gobierno*0.10)\n",
        "  print(\"Su Aforo Seguro es de \" + str(round(Aforo_Seguro)) + \"% del personal\")\n",
        "elif Indicador_Gobierno == 100:\n",
        "  Aforo_Seguro = Indicador_Gobierno\n",
        "  print(\"Su Aforo Seguro es de \" + str(round(Aforo_Seguro)) + \"% del personal\")\n",
        "else:\n",
        "  print(\"El Aforo permitido no puede ser mayor al 100%\")\n",
        "\n",
        "\n",
        "Total_Empleados = data[\"ID\"].count()\n",
        "\n",
        "Total_Empleados = round((Total_Empleados*Aforo_Seguro)/100)\n",
        "print(\"El numero total de empleados que pueden ingresar a sus oficinas es de:\" + \" \" +  str(Total_Empleados))\n",
        "\n",
        "Instruccion = \"Y la distribución debera ser de la siguiente manera:\"\n",
        "\n",
        "print(Instruccion)\n",
        "\n",
        "data_empresas = {'Empresa':  data[\"Empresa\"].unique(),\n",
        "        'Capacidad': [round(Total_Empleados*0.43),\n",
        "                      round(Total_Empleados*0.07),\n",
        "                      round(Total_Empleados*0.11),\n",
        "                      round(Total_Empleados*0.3),\n",
        "                      round(Total_Empleados*0.09)]}\n",
        "\n",
        "Empresas = pd.DataFrame (data_empresas, columns = ['Empresa','Capacidad'])\n",
        "\n",
        "data_pisos = {'Piso':  data[\"Piso\"].unique(),\n",
        "        'Capacidad': [round(Total_Empleados*0.22),\n",
        "                      round(Total_Empleados*0.24),\n",
        "                      round(Total_Empleados*0.26),\n",
        "                      round(Total_Empleados*0.21),\n",
        "                      round(Total_Empleados*0.03),\n",
        "                      round(Total_Empleados*0.05)]}\n",
        "\n",
        "Pisos = pd.DataFrame(data_pisos, columns = ['Piso','Capacidad'])\n",
        "\n",
        "display(Empresas) \n",
        "display(Pisos)"
      ],
      "execution_count": null,
      "outputs": [
        {
          "output_type": "stream",
          "text": [
            "¿Cual es el Aforo maximo permitido por el Gobierno 90\n",
            "Su Aforo Seguro es de 81% del personal\n",
            "El numero total de empleados que pueden ingresar a sus oficinas es de: 287\n",
            "Y la distribución debera ser de la siguiente manera:\n"
          ],
          "name": "stdout"
        },
        {
          "output_type": "display_data",
          "data": {
            "text/html": [
              "<div>\n",
              "<style scoped>\n",
              "    .dataframe tbody tr th:only-of-type {\n",
              "        vertical-align: middle;\n",
              "    }\n",
              "\n",
              "    .dataframe tbody tr th {\n",
              "        vertical-align: top;\n",
              "    }\n",
              "\n",
              "    .dataframe thead th {\n",
              "        text-align: right;\n",
              "    }\n",
              "</style>\n",
              "<table border=\"1\" class=\"dataframe\">\n",
              "  <thead>\n",
              "    <tr style=\"text-align: right;\">\n",
              "      <th></th>\n",
              "      <th>Empresa</th>\n",
              "      <th>Capacidad</th>\n",
              "    </tr>\n",
              "  </thead>\n",
              "  <tbody>\n",
              "    <tr>\n",
              "      <th>0</th>\n",
              "      <td>AOSA</td>\n",
              "      <td>123</td>\n",
              "    </tr>\n",
              "    <tr>\n",
              "      <th>1</th>\n",
              "      <td>MOLIERE</td>\n",
              "      <td>20</td>\n",
              "    </tr>\n",
              "    <tr>\n",
              "      <th>2</th>\n",
              "      <td>GRUPO BAL</td>\n",
              "      <td>32</td>\n",
              "    </tr>\n",
              "    <tr>\n",
              "      <th>3</th>\n",
              "      <td>TABAL</td>\n",
              "      <td>86</td>\n",
              "    </tr>\n",
              "    <tr>\n",
              "      <th>4</th>\n",
              "      <td>PETROBAL</td>\n",
              "      <td>26</td>\n",
              "    </tr>\n",
              "  </tbody>\n",
              "</table>\n",
              "</div>"
            ],
            "text/plain": [
              "     Empresa  Capacidad\n",
              "0       AOSA        123\n",
              "1    MOLIERE         20\n",
              "2  GRUPO BAL         32\n",
              "3      TABAL         86\n",
              "4   PETROBAL         26"
            ]
          },
          "metadata": {
            "tags": []
          }
        },
        {
          "output_type": "display_data",
          "data": {
            "text/html": [
              "<div>\n",
              "<style scoped>\n",
              "    .dataframe tbody tr th:only-of-type {\n",
              "        vertical-align: middle;\n",
              "    }\n",
              "\n",
              "    .dataframe tbody tr th {\n",
              "        vertical-align: top;\n",
              "    }\n",
              "\n",
              "    .dataframe thead th {\n",
              "        text-align: right;\n",
              "    }\n",
              "</style>\n",
              "<table border=\"1\" class=\"dataframe\">\n",
              "  <thead>\n",
              "    <tr style=\"text-align: right;\">\n",
              "      <th></th>\n",
              "      <th>Piso</th>\n",
              "      <th>Capacidad</th>\n",
              "    </tr>\n",
              "  </thead>\n",
              "  <tbody>\n",
              "    <tr>\n",
              "      <th>0</th>\n",
              "      <td>PB</td>\n",
              "      <td>63</td>\n",
              "    </tr>\n",
              "    <tr>\n",
              "      <th>1</th>\n",
              "      <td>Piso 5</td>\n",
              "      <td>69</td>\n",
              "    </tr>\n",
              "    <tr>\n",
              "      <th>2</th>\n",
              "      <td>Piso 6</td>\n",
              "      <td>75</td>\n",
              "    </tr>\n",
              "    <tr>\n",
              "      <th>3</th>\n",
              "      <td>Piso 7</td>\n",
              "      <td>60</td>\n",
              "    </tr>\n",
              "    <tr>\n",
              "      <th>4</th>\n",
              "      <td>Piso 8</td>\n",
              "      <td>9</td>\n",
              "    </tr>\n",
              "    <tr>\n",
              "      <th>5</th>\n",
              "      <td>Sótano 2</td>\n",
              "      <td>14</td>\n",
              "    </tr>\n",
              "  </tbody>\n",
              "</table>\n",
              "</div>"
            ],
            "text/plain": [
              "       Piso  Capacidad\n",
              "0        PB         63\n",
              "1    Piso 5         69\n",
              "2    Piso 6         75\n",
              "3    Piso 7         60\n",
              "4    Piso 8          9\n",
              "5  Sótano 2         14"
            ]
          },
          "metadata": {
            "tags": []
          }
        }
      ]
    },
    {
      "cell_type": "markdown",
      "metadata": {
        "id": "0AU8ZCzZbETX"
      },
      "source": [
        "# Exportar resultados a CVS"
      ]
    },
    {
      "cell_type": "code",
      "metadata": {
        "id": "SRG6CDc2W9rQ"
      },
      "source": [
        "writer = pd.ExcelWriter('GRUPOBAL.xlsx', engine='xlsxwriter')\n",
        "\n",
        "\n",
        "data_targ.to_excel(writer, sheet_name='Sheet1')\n",
        "Empresas.to_excel(writer, sheet_name='Sheet2')\n",
        "Pisos.to_excel(writer, sheet_name='Sheet3')\n",
        "data.to_excel(writer, sheet_name='Sheet4')\n",
        "\n",
        "writer.save()"
      ],
      "execution_count": null,
      "outputs": []
    },
    {
      "cell_type": "code",
      "metadata": {
        "id": "RRdDJutQcVPW",
        "colab": {
          "base_uri": "https://localhost:8080/",
          "height": 17
        },
        "outputId": "f5e6447f-764d-4e97-8806-5edb5471084c"
      },
      "source": [
        "files.download(\"GRUPOBAL.xlsx\")"
      ],
      "execution_count": null,
      "outputs": [
        {
          "output_type": "display_data",
          "data": {
            "application/javascript": [
              "\n",
              "    async function download(id, filename, size) {\n",
              "      if (!google.colab.kernel.accessAllowed) {\n",
              "        return;\n",
              "      }\n",
              "      const div = document.createElement('div');\n",
              "      const label = document.createElement('label');\n",
              "      label.textContent = `Downloading \"${filename}\": `;\n",
              "      div.appendChild(label);\n",
              "      const progress = document.createElement('progress');\n",
              "      progress.max = size;\n",
              "      div.appendChild(progress);\n",
              "      document.body.appendChild(div);\n",
              "\n",
              "      const buffers = [];\n",
              "      let downloaded = 0;\n",
              "\n",
              "      const channel = await google.colab.kernel.comms.open(id);\n",
              "      // Send a message to notify the kernel that we're ready.\n",
              "      channel.send({})\n",
              "\n",
              "      for await (const message of channel.messages) {\n",
              "        // Send a message to notify the kernel that we're ready.\n",
              "        channel.send({})\n",
              "        if (message.buffers) {\n",
              "          for (const buffer of message.buffers) {\n",
              "            buffers.push(buffer);\n",
              "            downloaded += buffer.byteLength;\n",
              "            progress.value = downloaded;\n",
              "          }\n",
              "        }\n",
              "      }\n",
              "      const blob = new Blob(buffers, {type: 'application/binary'});\n",
              "      const a = document.createElement('a');\n",
              "      a.href = window.URL.createObjectURL(blob);\n",
              "      a.download = filename;\n",
              "      div.appendChild(a);\n",
              "      a.click();\n",
              "      div.remove();\n",
              "    }\n",
              "  "
            ],
            "text/plain": [
              "<IPython.core.display.Javascript object>"
            ]
          },
          "metadata": {
            "tags": []
          }
        },
        {
          "output_type": "display_data",
          "data": {
            "application/javascript": [
              "download(\"download_2356e5ab-b82b-40d2-b88f-cec1f210fb20\", \"GRUPOBAL.xlsx\", 48894)"
            ],
            "text/plain": [
              "<IPython.core.display.Javascript object>"
            ]
          },
          "metadata": {
            "tags": []
          }
        }
      ]
    }
  ]
}